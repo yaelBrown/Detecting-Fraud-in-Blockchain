{
 "cells": [
  {
   "cell_type": "code",
   "execution_count": null,
   "id": "bdd4c045-e1e2-4b26-a1da-857734b47e35",
   "metadata": {},
   "outputs": [],
   "source": [
    "# Load libraries\n",
    "import pandas as pd\n",
    "import os\n",
    "\n",
    "from datetime import datetime"
   ]
  },
  {
   "cell_type": "code",
   "execution_count": 42,
   "id": "cb721f1f-15a6-4631-a635-1f6063ae73c7",
   "metadata": {},
   "outputs": [],
   "source": [
    "# Define constants\n",
    "BTC_FILE_PATH = '../data/btc_trans_data/'"
   ]
  },
  {
   "cell_type": "code",
   "execution_count": 55,
   "id": "e95e68a3-ceb9-485e-b1c2-e4968aec9f36",
   "metadata": {},
   "outputs": [],
   "source": [
    "# Check files in folder to process\n",
    "btc_trans_dir = os.listdir(BTC_FILE_PATH)"
   ]
  },
  {
   "cell_type": "code",
   "execution_count": 51,
   "id": "aa007576-a7d3-4f40-b477-c533237720ef",
   "metadata": {},
   "outputs": [],
   "source": [
    "# Method for doing the processing. Loads, process, and returns the dataset. \n",
    "def process(csv):\n",
    "    # Load csv\n",
    "    data = pd.read_csv(csv)\n",
    "\n",
    "    # Convert timestamp\n",
    "    data[\"timestamp\"] = pd.to_datetime(data[\"timestamp\"], errors='coerce', unit=\"s\")\n",
    "    data.dropna(subset=['timestamp'], inplace=True)\n",
    "\n",
    "    # Extract month, day, year\n",
    "    data['month'] = data['timestamp'].dt.month.astype(int)\n",
    "    data['day'] = data['timestamp'].dt.day.astype(int)\n",
    "    data['year'] = data['timestamp'].dt.year.astype(int)\n",
    "    \n",
    "    data.drop(['timestamp'], axis=1, inplace=True)\n",
    "        \n",
    "    # Convert satoshi to traditionally annotated bitcoin price (precision to the millionth) \n",
    "    data['satoshi'] = data['satoshi'] / 100000000\n",
    "    data['satoshi'] = data['satoshi'].map(\"{:.8f}\".format)\n",
    "    \n",
    "    return data"
   ]
  },
  {
   "cell_type": "code",
   "execution_count": 60,
   "id": "4241100a-1d89-4fdb-af31-befa29f3901f",
   "metadata": {},
   "outputs": [
    {
     "name": "stdout",
     "output_type": "stream",
     "text": [
      "Processing: 1 file(s).\n",
      "1/1\n"
     ]
    },
    {
     "name": "stderr",
     "output_type": "stream",
     "text": [
      "C:\\Users\\yaelr\\AppData\\Local\\Temp\\ipykernel_59776\\394063746.py:8: FutureWarning: The behavior of 'to_datetime' with 'unit' when parsing strings is deprecated. In a future version, strings will be parsed as datetime strings, matching the behavior without a 'unit'. To retain the old behavior, explicitly cast ints or floats to numeric type before calling to_datetime.\n",
      "  data[\"timestamp\"] = pd.to_datetime(data[\"timestamp\"], errors='coerce', unit=\"s\")\n"
     ]
    }
   ],
   "source": [
    "# Loop over the files, process them into a temporary variable, write that file to disk\n",
    "# Create output file\n",
    "out = pd.DataFrame()\n",
    "\n",
    "cnt = 1\n",
    "tot_num_of_files = str(len(btc_trans_dir))\n",
    "\n",
    "print(\"Processing: \" + tot_num_of_files + \" file(s).\")\n",
    "\n",
    "# For loop for processing\n",
    "for file in btc_trans_dir: \n",
    "    temp = process(BTC_FILE_PATH + file)\n",
    "    out = pd.concat([out, temp], ignore_index=True)\n",
    "    \n",
    "    print(str(cnt) + \"/\" + tot_num_of_files)\n",
    "\n",
    "# Write to CSV\n",
    "out.to_csv((BTC_FILE_PATH + \"btc_trans_data_processed.csv\"), index=False, header=True, sep=',')"
   ]
  }
 ],
 "metadata": {
  "kernelspec": {
   "display_name": "base_env",
   "language": "python",
   "name": "base_env"
  },
  "language_info": {
   "codemirror_mode": {
    "name": "ipython",
    "version": 3
   },
   "file_extension": ".py",
   "mimetype": "text/x-python",
   "name": "python",
   "nbconvert_exporter": "python",
   "pygments_lexer": "ipython3",
   "version": "3.12.4"
  }
 },
 "nbformat": 4,
 "nbformat_minor": 5
}
