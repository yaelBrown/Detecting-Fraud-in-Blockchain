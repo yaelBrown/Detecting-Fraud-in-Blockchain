{
 "cells": [
  {
   "cell_type": "markdown",
   "id": "845b9410-151e-4b3e-abeb-27914c48d10c",
   "metadata": {},
   "source": [
    "# Capstone: Sprint 2: Extended EDA\n",
    "Yael Brown \\\n",
    "November 14, 2024 "
   ]
  },
  {
   "cell_type": "code",
   "execution_count": 22,
   "id": "8996b6a8-da4c-4a38-8f93-704115e09f18",
   "metadata": {},
   "outputs": [],
   "source": [
    "# Load libraries\n",
    "import numpy as np\n",
    "import pandas as pd\n",
    "import warnings\n",
    "import time\n",
    "\n",
    "from datetime import datetime"
   ]
  },
  {
   "cell_type": "code",
   "execution_count": 3,
   "id": "8822eb90-c21b-457a-b4b8-e72154c7980e",
   "metadata": {},
   "outputs": [],
   "source": [
    "# Suppress warnings in the notebook\n",
    "warnings.filterwarnings(\"ignore\")"
   ]
  },
  {
   "cell_type": "code",
   "execution_count": 4,
   "id": "1933f3d1-fce4-47f7-94a1-be05796d656f",
   "metadata": {},
   "outputs": [],
   "source": [
    "# Load Libraries \n",
    "heist_df = pd.read_csv('../data/btc_HeistData.csv')"
   ]
  },
  {
   "cell_type": "code",
   "execution_count": 5,
   "id": "4e7f9752-2c28-474d-ba37-7258da36c838",
   "metadata": {},
   "outputs": [
    {
     "data": {
      "text/plain": [
       "(2916697, 10)"
      ]
     },
     "execution_count": 5,
     "metadata": {},
     "output_type": "execute_result"
    }
   ],
   "source": [
    "heist_df.shape"
   ]
  },
  {
   "cell_type": "code",
   "execution_count": 6,
   "id": "6044cd7b-28d4-47f1-8235-74238afa3cd4",
   "metadata": {},
   "outputs": [],
   "source": [
    "# Reduce size for development\n",
    "size = 50000\n",
    "\n",
    "heist_df = heist_df.iloc[:size]"
   ]
  },
  {
   "cell_type": "code",
   "execution_count": 7,
   "id": "8df785a6-df08-4bf6-991a-eb22a4eceac3",
   "metadata": {},
   "outputs": [
    {
     "data": {
      "text/plain": [
       "Index(['address', 'year', 'day', 'length', 'weight', 'count', 'looped',\n",
       "       'neighbors', 'income', 'label'],\n",
       "      dtype='object')"
      ]
     },
     "execution_count": 7,
     "metadata": {},
     "output_type": "execute_result"
    }
   ],
   "source": [
    "heist_df.columns"
   ]
  },
  {
   "cell_type": "code",
   "execution_count": 8,
   "id": "71948203-3888-4946-a57f-33f77d0ac2b5",
   "metadata": {},
   "outputs": [
    {
     "data": {
      "text/html": [
       "<div>\n",
       "<style scoped>\n",
       "    .dataframe tbody tr th:only-of-type {\n",
       "        vertical-align: middle;\n",
       "    }\n",
       "\n",
       "    .dataframe tbody tr th {\n",
       "        vertical-align: top;\n",
       "    }\n",
       "\n",
       "    .dataframe thead th {\n",
       "        text-align: right;\n",
       "    }\n",
       "</style>\n",
       "<table border=\"1\" class=\"dataframe\">\n",
       "  <thead>\n",
       "    <tr style=\"text-align: right;\">\n",
       "      <th></th>\n",
       "      <th>address</th>\n",
       "      <th>year</th>\n",
       "      <th>day</th>\n",
       "      <th>length</th>\n",
       "      <th>weight</th>\n",
       "      <th>count</th>\n",
       "      <th>looped</th>\n",
       "      <th>neighbors</th>\n",
       "      <th>income</th>\n",
       "      <th>label</th>\n",
       "    </tr>\n",
       "  </thead>\n",
       "  <tbody>\n",
       "    <tr>\n",
       "      <th>0</th>\n",
       "      <td>111K8kZAEnJg245r2cM6y9zgJGHZtJPy6</td>\n",
       "      <td>2017</td>\n",
       "      <td>11</td>\n",
       "      <td>18</td>\n",
       "      <td>0.008333</td>\n",
       "      <td>1</td>\n",
       "      <td>0</td>\n",
       "      <td>2</td>\n",
       "      <td>100050000.0</td>\n",
       "      <td>princetonCerber</td>\n",
       "    </tr>\n",
       "    <tr>\n",
       "      <th>1</th>\n",
       "      <td>1123pJv8jzeFQaCV4w644pzQJzVWay2zcA</td>\n",
       "      <td>2016</td>\n",
       "      <td>132</td>\n",
       "      <td>44</td>\n",
       "      <td>0.000244</td>\n",
       "      <td>1</td>\n",
       "      <td>0</td>\n",
       "      <td>1</td>\n",
       "      <td>100000000.0</td>\n",
       "      <td>princetonLocky</td>\n",
       "    </tr>\n",
       "    <tr>\n",
       "      <th>2</th>\n",
       "      <td>112536im7hy6wtKbpH1qYDWtTyMRAcA2p7</td>\n",
       "      <td>2016</td>\n",
       "      <td>246</td>\n",
       "      <td>0</td>\n",
       "      <td>1.000000</td>\n",
       "      <td>1</td>\n",
       "      <td>0</td>\n",
       "      <td>2</td>\n",
       "      <td>200000000.0</td>\n",
       "      <td>princetonCerber</td>\n",
       "    </tr>\n",
       "    <tr>\n",
       "      <th>3</th>\n",
       "      <td>1126eDRw2wqSkWosjTCre8cjjQW8sSeWH7</td>\n",
       "      <td>2016</td>\n",
       "      <td>322</td>\n",
       "      <td>72</td>\n",
       "      <td>0.003906</td>\n",
       "      <td>1</td>\n",
       "      <td>0</td>\n",
       "      <td>2</td>\n",
       "      <td>71200000.0</td>\n",
       "      <td>princetonCerber</td>\n",
       "    </tr>\n",
       "    <tr>\n",
       "      <th>4</th>\n",
       "      <td>1129TSjKtx65E35GiUo4AYVeyo48twbrGX</td>\n",
       "      <td>2016</td>\n",
       "      <td>238</td>\n",
       "      <td>144</td>\n",
       "      <td>0.072848</td>\n",
       "      <td>456</td>\n",
       "      <td>0</td>\n",
       "      <td>1</td>\n",
       "      <td>200000000.0</td>\n",
       "      <td>princetonLocky</td>\n",
       "    </tr>\n",
       "  </tbody>\n",
       "</table>\n",
       "</div>"
      ],
      "text/plain": [
       "                              address  year  day  length    weight  count  \\\n",
       "0   111K8kZAEnJg245r2cM6y9zgJGHZtJPy6  2017   11      18  0.008333      1   \n",
       "1  1123pJv8jzeFQaCV4w644pzQJzVWay2zcA  2016  132      44  0.000244      1   \n",
       "2  112536im7hy6wtKbpH1qYDWtTyMRAcA2p7  2016  246       0  1.000000      1   \n",
       "3  1126eDRw2wqSkWosjTCre8cjjQW8sSeWH7  2016  322      72  0.003906      1   \n",
       "4  1129TSjKtx65E35GiUo4AYVeyo48twbrGX  2016  238     144  0.072848    456   \n",
       "\n",
       "   looped  neighbors       income            label  \n",
       "0       0          2  100050000.0  princetonCerber  \n",
       "1       0          1  100000000.0   princetonLocky  \n",
       "2       0          2  200000000.0  princetonCerber  \n",
       "3       0          2   71200000.0  princetonCerber  \n",
       "4       0          1  200000000.0   princetonLocky  "
      ]
     },
     "execution_count": 8,
     "metadata": {},
     "output_type": "execute_result"
    }
   ],
   "source": [
    "heist_df.head()"
   ]
  },
  {
   "cell_type": "code",
   "execution_count": 9,
   "id": "eacb5a3b-4870-4677-81ca-db1188389bbf",
   "metadata": {},
   "outputs": [
    {
     "data": {
      "text/html": [
       "<div>\n",
       "<style scoped>\n",
       "    .dataframe tbody tr th:only-of-type {\n",
       "        vertical-align: middle;\n",
       "    }\n",
       "\n",
       "    .dataframe tbody tr th {\n",
       "        vertical-align: top;\n",
       "    }\n",
       "\n",
       "    .dataframe thead th {\n",
       "        text-align: right;\n",
       "    }\n",
       "</style>\n",
       "<table border=\"1\" class=\"dataframe\">\n",
       "  <thead>\n",
       "    <tr style=\"text-align: right;\">\n",
       "      <th></th>\n",
       "      <th>address</th>\n",
       "      <th>year</th>\n",
       "      <th>day</th>\n",
       "      <th>income</th>\n",
       "    </tr>\n",
       "  </thead>\n",
       "  <tbody>\n",
       "    <tr>\n",
       "      <th>0</th>\n",
       "      <td>111K8kZAEnJg245r2cM6y9zgJGHZtJPy6</td>\n",
       "      <td>2017</td>\n",
       "      <td>11</td>\n",
       "      <td>100050000.0</td>\n",
       "    </tr>\n",
       "    <tr>\n",
       "      <th>1</th>\n",
       "      <td>1123pJv8jzeFQaCV4w644pzQJzVWay2zcA</td>\n",
       "      <td>2016</td>\n",
       "      <td>132</td>\n",
       "      <td>100000000.0</td>\n",
       "    </tr>\n",
       "    <tr>\n",
       "      <th>2</th>\n",
       "      <td>112536im7hy6wtKbpH1qYDWtTyMRAcA2p7</td>\n",
       "      <td>2016</td>\n",
       "      <td>246</td>\n",
       "      <td>200000000.0</td>\n",
       "    </tr>\n",
       "    <tr>\n",
       "      <th>3</th>\n",
       "      <td>1126eDRw2wqSkWosjTCre8cjjQW8sSeWH7</td>\n",
       "      <td>2016</td>\n",
       "      <td>322</td>\n",
       "      <td>71200000.0</td>\n",
       "    </tr>\n",
       "    <tr>\n",
       "      <th>4</th>\n",
       "      <td>1129TSjKtx65E35GiUo4AYVeyo48twbrGX</td>\n",
       "      <td>2016</td>\n",
       "      <td>238</td>\n",
       "      <td>200000000.0</td>\n",
       "    </tr>\n",
       "  </tbody>\n",
       "</table>\n",
       "</div>"
      ],
      "text/plain": [
       "                              address  year  day       income\n",
       "0   111K8kZAEnJg245r2cM6y9zgJGHZtJPy6  2017   11  100050000.0\n",
       "1  1123pJv8jzeFQaCV4w644pzQJzVWay2zcA  2016  132  100000000.0\n",
       "2  112536im7hy6wtKbpH1qYDWtTyMRAcA2p7  2016  246  200000000.0\n",
       "3  1126eDRw2wqSkWosjTCre8cjjQW8sSeWH7  2016  322   71200000.0\n",
       "4  1129TSjKtx65E35GiUo4AYVeyo48twbrGX  2016  238  200000000.0"
      ]
     },
     "execution_count": 9,
     "metadata": {},
     "output_type": "execute_result"
    }
   ],
   "source": [
    "# drop label, neighbors, looped, count, weight, length\n",
    "heist_df.drop(columns=['label', 'neighbors', 'looped', 'count', 'weight', 'length'], axis=1, inplace=True)\n",
    "\n",
    "heist_df.head()"
   ]
  },
  {
   "cell_type": "code",
   "execution_count": null,
   "id": "e7c7be3f-3181-4c74-a622-c41c24f70cf1",
   "metadata": {},
   "outputs": [],
   "source": [
    "# Convert day to month and day\n",
    "df = heist_df # This made it easier to develop this process and I can switch from temp dataframe to heist_df and not worry about messing up the code\n",
    "\n",
    "# Rename column\n",
    "df.rename(columns={'day': 'day_of_year'}, inplace=True)\n",
    "\n",
    "# Verify rename\n",
    "print(df.info())\n",
    "\n",
    "# Instantiate day and month columns that we need\n",
    "df['day'] = 0\n",
    "df['month'] = 0\n",
    "\n",
    "# Add month and day (calculate it from day_of_year\n",
    "# (I couldn't get df.apply() to work and reassign both columns at once) \n",
    "length = len(df)\n",
    "\n",
    "cnt = 0\n",
    "for r in range(0, length):\n",
    "    print(cnt)\n",
    "    row = df.iloc[r]\n",
    "    date = pd.to_datetime(row['day_of_year'], format='%j', errors='coerce') + pd.DateOffset(years=row['year'] - 1970)\n",
    "    row['month'] = date.month\n",
    "    row['day'] = date.day\n",
    "    df.iloc[r] = row\n",
    "    cnt += 1\n",
    "\n",
    "# Drop day_of_year column\n",
    "df.drop(columns=['day_of_year'], axis=1, inplace=True)\n",
    "\n",
    "# Assign back to heist_df\n",
    "heist_df = df\n",
    "\n",
    "# Clean up memory\n",
    "del df"
   ]
  },
  {
   "cell_type": "code",
   "execution_count": 11,
   "id": "9d3eb2a1-5bb2-4036-8b73-a20d3f7799e8",
   "metadata": {},
   "outputs": [
    {
     "data": {
      "text/html": [
       "<div>\n",
       "<style scoped>\n",
       "    .dataframe tbody tr th:only-of-type {\n",
       "        vertical-align: middle;\n",
       "    }\n",
       "\n",
       "    .dataframe tbody tr th {\n",
       "        vertical-align: top;\n",
       "    }\n",
       "\n",
       "    .dataframe thead th {\n",
       "        text-align: right;\n",
       "    }\n",
       "</style>\n",
       "<table border=\"1\" class=\"dataframe\">\n",
       "  <thead>\n",
       "    <tr style=\"text-align: right;\">\n",
       "      <th></th>\n",
       "      <th>address</th>\n",
       "      <th>year</th>\n",
       "      <th>income</th>\n",
       "      <th>day</th>\n",
       "      <th>month</th>\n",
       "    </tr>\n",
       "  </thead>\n",
       "  <tbody>\n",
       "    <tr>\n",
       "      <th>0</th>\n",
       "      <td>111K8kZAEnJg245r2cM6y9zgJGHZtJPy6</td>\n",
       "      <td>2017</td>\n",
       "      <td>100050000.0</td>\n",
       "      <td>11</td>\n",
       "      <td>1</td>\n",
       "    </tr>\n",
       "    <tr>\n",
       "      <th>1</th>\n",
       "      <td>1123pJv8jzeFQaCV4w644pzQJzVWay2zcA</td>\n",
       "      <td>2016</td>\n",
       "      <td>100000000.0</td>\n",
       "      <td>12</td>\n",
       "      <td>5</td>\n",
       "    </tr>\n",
       "    <tr>\n",
       "      <th>2</th>\n",
       "      <td>112536im7hy6wtKbpH1qYDWtTyMRAcA2p7</td>\n",
       "      <td>2016</td>\n",
       "      <td>200000000.0</td>\n",
       "      <td>3</td>\n",
       "      <td>9</td>\n",
       "    </tr>\n",
       "    <tr>\n",
       "      <th>3</th>\n",
       "      <td>1126eDRw2wqSkWosjTCre8cjjQW8sSeWH7</td>\n",
       "      <td>2016</td>\n",
       "      <td>71200000.0</td>\n",
       "      <td>18</td>\n",
       "      <td>11</td>\n",
       "    </tr>\n",
       "    <tr>\n",
       "      <th>4</th>\n",
       "      <td>1129TSjKtx65E35GiUo4AYVeyo48twbrGX</td>\n",
       "      <td>2016</td>\n",
       "      <td>200000000.0</td>\n",
       "      <td>26</td>\n",
       "      <td>8</td>\n",
       "    </tr>\n",
       "  </tbody>\n",
       "</table>\n",
       "</div>"
      ],
      "text/plain": [
       "                              address  year       income  day  month\n",
       "0   111K8kZAEnJg245r2cM6y9zgJGHZtJPy6  2017  100050000.0   11      1\n",
       "1  1123pJv8jzeFQaCV4w644pzQJzVWay2zcA  2016  100000000.0   12      5\n",
       "2  112536im7hy6wtKbpH1qYDWtTyMRAcA2p7  2016  200000000.0    3      9\n",
       "3  1126eDRw2wqSkWosjTCre8cjjQW8sSeWH7  2016   71200000.0   18     11\n",
       "4  1129TSjKtx65E35GiUo4AYVeyo48twbrGX  2016  200000000.0   26      8"
      ]
     },
     "execution_count": 11,
     "metadata": {},
     "output_type": "execute_result"
    }
   ],
   "source": [
    "# Verify month and day are present. \n",
    "heist_df.head()"
   ]
  },
  {
   "cell_type": "markdown",
   "id": "e8ad0f8f-239b-4770-88ae-d100789fbfc4",
   "metadata": {},
   "source": [
    "## Import cleaned (and sampled dataset) btc transaction dataset\n",
    "Here we have to import the cleaned dataset to match the sender or reciever addresses with the known heist addresses in our dataset and mark them as possible fraudulent transactions. The problem with this is that we are using a extremely small proportion of the transaction dataset and that may not be enough to have flag as possible fraud and train our model. \n",
    "\n",
    "The model will be trained on (target variables) address and the amount that is transferred. "
   ]
  },
  {
   "cell_type": "code",
   "execution_count": 58,
   "id": "809f86de-16eb-464e-9787-a59e7637a72c",
   "metadata": {},
   "outputs": [
    {
     "data": {
      "text/html": [
       "<div>\n",
       "<style scoped>\n",
       "    .dataframe tbody tr th:only-of-type {\n",
       "        vertical-align: middle;\n",
       "    }\n",
       "\n",
       "    .dataframe tbody tr th {\n",
       "        vertical-align: top;\n",
       "    }\n",
       "\n",
       "    .dataframe thead th {\n",
       "        text-align: right;\n",
       "    }\n",
       "</style>\n",
       "<table border=\"1\" class=\"dataframe\">\n",
       "  <thead>\n",
       "    <tr style=\"text-align: right;\">\n",
       "      <th></th>\n",
       "      <th>timestamp</th>\n",
       "      <th>source_address</th>\n",
       "      <th>destination_address</th>\n",
       "      <th>satoshi</th>\n",
       "      <th>year</th>\n",
       "      <th>month</th>\n",
       "      <th>day</th>\n",
       "    </tr>\n",
       "  </thead>\n",
       "  <tbody>\n",
       "    <tr>\n",
       "      <th>0</th>\n",
       "      <td>1451606601</td>\n",
       "      <td>1CVu8VTq7iakNBffmgJssBbN1Kje4Wz6XF</td>\n",
       "      <td>3Qe6Zfj7Dm3fa96HXp5u8GjDARAt2MHM9V</td>\n",
       "      <td>1.000000e+09</td>\n",
       "      <td>2016</td>\n",
       "      <td>1</td>\n",
       "      <td>1</td>\n",
       "    </tr>\n",
       "    <tr>\n",
       "      <th>1</th>\n",
       "      <td>1451606601</td>\n",
       "      <td>1CVu8VTq7iakNBffmgJssBbN1Kje4Wz6XF</td>\n",
       "      <td>1RCgvJmbRWq77GzT5TK4mxzyzSBtHmeod</td>\n",
       "      <td>9.480760e+09</td>\n",
       "      <td>2016</td>\n",
       "      <td>1</td>\n",
       "      <td>1</td>\n",
       "    </tr>\n",
       "    <tr>\n",
       "      <th>2</th>\n",
       "      <td>1451606601</td>\n",
       "      <td>17evnw2mbKyPB1WuFhGcYznrxJAwi1WrHx</td>\n",
       "      <td>3Qe6Zfj7Dm3fa96HXp5u8GjDARAt2MHM9V</td>\n",
       "      <td>1.000000e+09</td>\n",
       "      <td>2016</td>\n",
       "      <td>1</td>\n",
       "      <td>1</td>\n",
       "    </tr>\n",
       "    <tr>\n",
       "      <th>3</th>\n",
       "      <td>1451606601</td>\n",
       "      <td>17evnw2mbKyPB1WuFhGcYznrxJAwi1WrHx</td>\n",
       "      <td>1RCgvJmbRWq77GzT5TK4mxzyzSBtHmeod</td>\n",
       "      <td>9.480760e+09</td>\n",
       "      <td>2016</td>\n",
       "      <td>1</td>\n",
       "      <td>1</td>\n",
       "    </tr>\n",
       "    <tr>\n",
       "      <th>4</th>\n",
       "      <td>1451606601</td>\n",
       "      <td>17evnw2mbKyPB1WuFhGcYznrxJAwi1WrHx</td>\n",
       "      <td>3Qe6Zfj7Dm3fa96HXp5u8GjDARAt2MHM9V</td>\n",
       "      <td>1.000000e+09</td>\n",
       "      <td>2016</td>\n",
       "      <td>1</td>\n",
       "      <td>1</td>\n",
       "    </tr>\n",
       "  </tbody>\n",
       "</table>\n",
       "</div>"
      ],
      "text/plain": [
       "    timestamp                      source_address  \\\n",
       "0  1451606601  1CVu8VTq7iakNBffmgJssBbN1Kje4Wz6XF   \n",
       "1  1451606601  1CVu8VTq7iakNBffmgJssBbN1Kje4Wz6XF   \n",
       "2  1451606601  17evnw2mbKyPB1WuFhGcYznrxJAwi1WrHx   \n",
       "3  1451606601  17evnw2mbKyPB1WuFhGcYznrxJAwi1WrHx   \n",
       "4  1451606601  17evnw2mbKyPB1WuFhGcYznrxJAwi1WrHx   \n",
       "\n",
       "                  destination_address       satoshi  year  month  day  \n",
       "0  3Qe6Zfj7Dm3fa96HXp5u8GjDARAt2MHM9V  1.000000e+09  2016      1    1  \n",
       "1   1RCgvJmbRWq77GzT5TK4mxzyzSBtHmeod  9.480760e+09  2016      1    1  \n",
       "2  3Qe6Zfj7Dm3fa96HXp5u8GjDARAt2MHM9V  1.000000e+09  2016      1    1  \n",
       "3   1RCgvJmbRWq77GzT5TK4mxzyzSBtHmeod  9.480760e+09  2016      1    1  \n",
       "4  3Qe6Zfj7Dm3fa96HXp5u8GjDARAt2MHM9V  1.000000e+09  2016      1    1  "
      ]
     },
     "execution_count": 58,
     "metadata": {},
     "output_type": "execute_result"
    }
   ],
   "source": [
    "btc_processed_df = pd.read_csv(\"../data/btc_trans_data/data_raw/btc_data_cleaned.csv\")\n",
    "\n",
    "btc_processed_df.head()"
   ]
  },
  {
   "cell_type": "code",
   "execution_count": 60,
   "id": "63aeab16-6a94-4b1e-b59f-2ab032be2436",
   "metadata": {},
   "outputs": [
    {
     "data": {
      "text/html": [
       "<div>\n",
       "<style scoped>\n",
       "    .dataframe tbody tr th:only-of-type {\n",
       "        vertical-align: middle;\n",
       "    }\n",
       "\n",
       "    .dataframe tbody tr th {\n",
       "        vertical-align: top;\n",
       "    }\n",
       "\n",
       "    .dataframe thead th {\n",
       "        text-align: right;\n",
       "    }\n",
       "</style>\n",
       "<table border=\"1\" class=\"dataframe\">\n",
       "  <thead>\n",
       "    <tr style=\"text-align: right;\">\n",
       "      <th></th>\n",
       "      <th>timestamp</th>\n",
       "      <th>source_address</th>\n",
       "      <th>destination_address</th>\n",
       "      <th>satoshi</th>\n",
       "      <th>year</th>\n",
       "      <th>month</th>\n",
       "      <th>day</th>\n",
       "    </tr>\n",
       "  </thead>\n",
       "  <tbody>\n",
       "    <tr>\n",
       "      <th>0</th>\n",
       "      <td>1451606601</td>\n",
       "      <td>1CVu8VTq7iakNBffmgJssBbN1Kje4Wz6XF</td>\n",
       "      <td>3Qe6Zfj7Dm3fa96HXp5u8GjDARAt2MHM9V</td>\n",
       "      <td>1.000000e+09</td>\n",
       "      <td>2016</td>\n",
       "      <td>1</td>\n",
       "      <td>1</td>\n",
       "    </tr>\n",
       "    <tr>\n",
       "      <th>1</th>\n",
       "      <td>1451606601</td>\n",
       "      <td>1CVu8VTq7iakNBffmgJssBbN1Kje4Wz6XF</td>\n",
       "      <td>1RCgvJmbRWq77GzT5TK4mxzyzSBtHmeod</td>\n",
       "      <td>9.480760e+09</td>\n",
       "      <td>2016</td>\n",
       "      <td>1</td>\n",
       "      <td>1</td>\n",
       "    </tr>\n",
       "    <tr>\n",
       "      <th>2</th>\n",
       "      <td>1451606601</td>\n",
       "      <td>17evnw2mbKyPB1WuFhGcYznrxJAwi1WrHx</td>\n",
       "      <td>3Qe6Zfj7Dm3fa96HXp5u8GjDARAt2MHM9V</td>\n",
       "      <td>1.000000e+09</td>\n",
       "      <td>2016</td>\n",
       "      <td>1</td>\n",
       "      <td>1</td>\n",
       "    </tr>\n",
       "    <tr>\n",
       "      <th>3</th>\n",
       "      <td>1451606601</td>\n",
       "      <td>17evnw2mbKyPB1WuFhGcYznrxJAwi1WrHx</td>\n",
       "      <td>1RCgvJmbRWq77GzT5TK4mxzyzSBtHmeod</td>\n",
       "      <td>9.480760e+09</td>\n",
       "      <td>2016</td>\n",
       "      <td>1</td>\n",
       "      <td>1</td>\n",
       "    </tr>\n",
       "    <tr>\n",
       "      <th>4</th>\n",
       "      <td>1451606601</td>\n",
       "      <td>17evnw2mbKyPB1WuFhGcYznrxJAwi1WrHx</td>\n",
       "      <td>3Qe6Zfj7Dm3fa96HXp5u8GjDARAt2MHM9V</td>\n",
       "      <td>1.000000e+09</td>\n",
       "      <td>2016</td>\n",
       "      <td>1</td>\n",
       "      <td>1</td>\n",
       "    </tr>\n",
       "  </tbody>\n",
       "</table>\n",
       "</div>"
      ],
      "text/plain": [
       "    timestamp                      source_address  \\\n",
       "0  1451606601  1CVu8VTq7iakNBffmgJssBbN1Kje4Wz6XF   \n",
       "1  1451606601  1CVu8VTq7iakNBffmgJssBbN1Kje4Wz6XF   \n",
       "2  1451606601  17evnw2mbKyPB1WuFhGcYznrxJAwi1WrHx   \n",
       "3  1451606601  17evnw2mbKyPB1WuFhGcYznrxJAwi1WrHx   \n",
       "4  1451606601  17evnw2mbKyPB1WuFhGcYznrxJAwi1WrHx   \n",
       "\n",
       "                  destination_address       satoshi  year  month  day  \n",
       "0  3Qe6Zfj7Dm3fa96HXp5u8GjDARAt2MHM9V  1.000000e+09  2016      1    1  \n",
       "1   1RCgvJmbRWq77GzT5TK4mxzyzSBtHmeod  9.480760e+09  2016      1    1  \n",
       "2  3Qe6Zfj7Dm3fa96HXp5u8GjDARAt2MHM9V  1.000000e+09  2016      1    1  \n",
       "3   1RCgvJmbRWq77GzT5TK4mxzyzSBtHmeod  9.480760e+09  2016      1    1  \n",
       "4  3Qe6Zfj7Dm3fa96HXp5u8GjDARAt2MHM9V  1.000000e+09  2016      1    1  "
      ]
     },
     "execution_count": 60,
     "metadata": {},
     "output_type": "execute_result"
    }
   ],
   "source": [
    "# Convert year, month, day to intenters\n",
    "columns = [\"year\", \"month\", \"day\"]\n",
    "\n",
    "btc_processed_df[columns] = btc_processed_df[columns].astype(int)\n",
    "\n",
    "btc_processed_df.head()"
   ]
  },
  {
   "cell_type": "code",
   "execution_count": 62,
   "id": "ae37e38a-2530-4d2e-837e-2489c242e61a",
   "metadata": {},
   "outputs": [
    {
     "name": "stdout",
     "output_type": "stream",
     "text": [
      "<class 'pandas.core.frame.DataFrame'>\n",
      "RangeIndex: 12070 entries, 0 to 12069\n",
      "Data columns (total 7 columns):\n",
      " #   Column               Non-Null Count  Dtype  \n",
      "---  ------               --------------  -----  \n",
      " 0   timestamp            12070 non-null  int64  \n",
      " 1   source_address       12070 non-null  object \n",
      " 2   destination_address  12070 non-null  object \n",
      " 3   satoshi              12070 non-null  float64\n",
      " 4   year                 12070 non-null  int32  \n",
      " 5   month                12070 non-null  int32  \n",
      " 6   day                  12070 non-null  int32  \n",
      "dtypes: float64(1), int32(3), int64(1), object(2)\n",
      "memory usage: 518.8+ KB\n"
     ]
    }
   ],
   "source": [
    "btc_processed_df.info()"
   ]
  },
  {
   "cell_type": "code",
   "execution_count": 64,
   "id": "65adeb81-d336-41c2-b2b3-f7ac7f85d2e9",
   "metadata": {},
   "outputs": [
    {
     "data": {
      "text/plain": [
       "0    0\n",
       "1    0\n",
       "2    0\n",
       "3    0\n",
       "4    0\n",
       "Name: isPossibleFraud, dtype: int64"
      ]
     },
     "execution_count": 64,
     "metadata": {},
     "output_type": "execute_result"
    }
   ],
   "source": [
    "# Create possible fraud col\n",
    "btc_processed_df[\"isPossibleFraud\"] = 0\n",
    "\n",
    "btc_processed_df[\"isPossibleFraud\"].head()"
   ]
  },
  {
   "cell_type": "code",
   "execution_count": 66,
   "id": "4e0a263f-c475-4dd2-9649-05c42cec021b",
   "metadata": {},
   "outputs": [
    {
     "data": {
      "text/plain": [
       "year\n",
       "2016    12070\n",
       "Name: count, dtype: int64"
      ]
     },
     "execution_count": 66,
     "metadata": {},
     "output_type": "execute_result"
    }
   ],
   "source": [
    "btc_processed_df['year'].value_counts()"
   ]
  },
  {
   "cell_type": "code",
   "execution_count": 84,
   "id": "045c8bb0-8ef1-458e-986c-96242cb00314",
   "metadata": {},
   "outputs": [
    {
     "data": {
      "text/plain": [
       "combined\n",
       "False    12070\n",
       "Name: count, dtype: int64"
      ]
     },
     "execution_count": 84,
     "metadata": {},
     "output_type": "execute_result"
    }
   ],
   "source": [
    "# Check for matches\n",
    "btc_processed_df['combined'] = btc_processed_df['source_address'] + '_' + btc_processed_df['destination_address']\n",
    "\n",
    "matched = btc_processed_df['combined'].isin(heist_df['address'])\n",
    "\n",
    "matched.value_counts()"
   ]
  },
  {
   "cell_type": "code",
   "execution_count": 80,
   "id": "4ffddb79-2e86-44d4-b731-0e193469f5b2",
   "metadata": {},
   "outputs": [
    {
     "data": {
      "text/plain": [
       "0        1CVu8VTq7iakNBffmgJssBbN1Kje4Wz6XF_3Qe6Zfj7Dm3...\n",
       "1        1CVu8VTq7iakNBffmgJssBbN1Kje4Wz6XF_1RCgvJmbRWq...\n",
       "2        17evnw2mbKyPB1WuFhGcYznrxJAwi1WrHx_3Qe6Zfj7Dm3...\n",
       "3        17evnw2mbKyPB1WuFhGcYznrxJAwi1WrHx_1RCgvJmbRWq...\n",
       "4        17evnw2mbKyPB1WuFhGcYznrxJAwi1WrHx_3Qe6Zfj7Dm3...\n",
       "                               ...                        \n",
       "12065    1LGwghZ82b61ef3SLDuh5F2jywRhDiS246_1MK1YdGSEUP...\n",
       "12066    1LGwghZ82b61ef3SLDuh5F2jywRhDiS246_1DGcwcKVxo9...\n",
       "12067    1KC1zxvPXeFGqBxHnBbcN7F56qbQ1KSeKT_1P6kYQTjH7R...\n",
       "12068    1KC1zxvPXeFGqBxHnBbcN7F56qbQ1KSeKT_1KC1zxvPXeF...\n",
       "12069    1KC1zxvPXeFGqBxHnBbcN7F56qbQ1KSeKT_16AXyXxzNPg...\n",
       "Name: combined, Length: 12070, dtype: object"
      ]
     },
     "execution_count": 80,
     "metadata": {},
     "output_type": "execute_result"
    }
   ],
   "source": [
    "btc_processed_df['combined']"
   ]
  },
  {
   "cell_type": "code",
   "execution_count": 100,
   "id": "d62a1476-9a53-47a9-9746-84ff59ef8979",
   "metadata": {},
   "outputs": [
    {
     "name": "stdout",
     "output_type": "stream",
     "text": [
      "year\n",
      "2016    15631\n",
      "2014    10319\n",
      "2011     8652\n",
      "2013     7494\n",
      "2015     3701\n",
      "2017     3486\n",
      "2012      714\n",
      "2018        3\n",
      "Name: count, dtype: int64 \n",
      "\n",
      "(50000, 5)\n"
     ]
    }
   ],
   "source": [
    "# See what years are in dataset\n",
    "print(heist_df['year'].value_counts(), \"\\n\")\n",
    "print(heist_df.shape)"
   ]
  },
  {
   "cell_type": "code",
   "execution_count": 102,
   "id": "def7a213-1354-417c-b036-fcefafbab730",
   "metadata": {},
   "outputs": [
    {
     "data": {
      "text/plain": [
       "(15631, 5)"
      ]
     },
     "execution_count": 102,
     "metadata": {},
     "output_type": "execute_result"
    }
   ],
   "source": [
    "# Only extract the year 2016\n",
    "heist_df = heist_df[heist_df['year'] == 2016]\n",
    "\n",
    "heist_df.shape"
   ]
  },
  {
   "cell_type": "code",
   "execution_count": 143,
   "id": "fb9380ef-568f-4690-9286-3decf77e5518",
   "metadata": {},
   "outputs": [
    {
     "data": {
      "text/plain": [
       "<Axes: xlabel='month'>"
      ]
     },
     "execution_count": 143,
     "metadata": {},
     "output_type": "execute_result"
    },
    {
     "data": {
      "image/png": "[encoded data removed]",
      "text/plain": [
       "<Figure size 640x480 with 1 Axes>"
      ]
     },
     "metadata": {},
     "output_type": "display_data"
    }
   ],
   "source": [
    "# Check heist df. \n",
    "heist_df['month'].value_counts().plot(kind='bar')"
   ]
  },
  {
   "cell_type": "code",
   "execution_count": 138,
   "id": "f2984333-d7a2-46f2-996c-81d58c1c9b51",
   "metadata": {},
   "outputs": [
    {
     "data": {
      "text/plain": [
       "month\n",
       "1    12070\n",
       "Name: count, dtype: int64"
      ]
     },
     "execution_count": 138,
     "metadata": {},
     "output_type": "execute_result"
    }
   ],
   "source": [
    "btc_processed_df['month'].value_counts()"
   ]
  },
  {
   "cell_type": "markdown",
   "id": "09fb53ff-f531-4f76-b4a8-e300fa3dbacc",
   "metadata": {},
   "source": [
    "More values in heist df are in March. I will have to find a file that has more March values, and that will increase the chance of matching values and creating more values in the target variable for training. \n",
    "\n",
    "Currently the current file only has 12k rows in January of 2016. In our heist dataset we only have 29 possible fraudulent values in the heist dataset. "
   ]
  },
  {
   "cell_type": "markdown",
   "id": "4a77bf02-f912-4321-b3d3-ba0833c7a8c3",
   "metadata": {},
   "source": [
    "(cheated) Asked ChatGPT for epochs for March 1, 2016 and March 31, 2016.\n",
    "\n",
    "```\n",
    "March 1, 2016 epoch: 1456790400\n",
    "March 31, 2016 epoch: 1459382400\n",
    "```"
   ]
  },
  {
   "cell_type": "markdown",
   "id": "3b5cce22-e037-47fe-a9de-445fa867884f",
   "metadata": {},
   "source": [
    "File '5626486' has dates in march. Re-creating cleaned_dataset."
   ]
  },
  {
   "cell_type": "code",
   "execution_count": 178,
   "id": "816372d6-a929-491e-a578-b1b1bfe2c7e8",
   "metadata": {},
   "outputs": [
    {
     "data": {
      "text/html": [
       "<div>\n",
       "<style scoped>\n",
       "    .dataframe tbody tr th:only-of-type {\n",
       "        vertical-align: middle;\n",
       "    }\n",
       "\n",
       "    .dataframe tbody tr th {\n",
       "        vertical-align: top;\n",
       "    }\n",
       "\n",
       "    .dataframe thead th {\n",
       "        text-align: right;\n",
       "    }\n",
       "</style>\n",
       "<table border=\"1\" class=\"dataframe\">\n",
       "  <thead>\n",
       "    <tr style=\"text-align: right;\">\n",
       "      <th></th>\n",
       "      <th>timestamp</th>\n",
       "      <th>source_address</th>\n",
       "      <th>destination_address</th>\n",
       "      <th>satoshi</th>\n",
       "      <th>year</th>\n",
       "      <th>month</th>\n",
       "      <th>day</th>\n",
       "    </tr>\n",
       "  </thead>\n",
       "  <tbody>\n",
       "    <tr>\n",
       "      <th>0</th>\n",
       "      <td>1456791197</td>\n",
       "      <td>16ZZav1Cq5STgj7X5bvP9UgVYJkRk2RDdC</td>\n",
       "      <td>1KgqD2G2NSZYgHk5m7AW3wxupDj3H76Q8e</td>\n",
       "      <td>156555.0</td>\n",
       "      <td>2016</td>\n",
       "      <td>3</td>\n",
       "      <td>1</td>\n",
       "    </tr>\n",
       "    <tr>\n",
       "      <th>1</th>\n",
       "      <td>1456791197</td>\n",
       "      <td>16ZZav1Cq5STgj7X5bvP9UgVYJkRk2RDdC</td>\n",
       "      <td>1NZF5BEn5iCe655fj4vd5UMaXXfVvFH5aJ</td>\n",
       "      <td>26400000.0</td>\n",
       "      <td>2016</td>\n",
       "      <td>3</td>\n",
       "      <td>1</td>\n",
       "    </tr>\n",
       "    <tr>\n",
       "      <th>2</th>\n",
       "      <td>1456791197</td>\n",
       "      <td>1NcktapNVSfbH9FZ9mWZcgMaaokNj9Goyo</td>\n",
       "      <td>1NXmUs99Rn8FzyYMK5bmBAPL81VzmPhH9d</td>\n",
       "      <td>245057610.0</td>\n",
       "      <td>2016</td>\n",
       "      <td>3</td>\n",
       "      <td>1</td>\n",
       "    </tr>\n",
       "    <tr>\n",
       "      <th>3</th>\n",
       "      <td>1456791197</td>\n",
       "      <td>1NcktapNVSfbH9FZ9mWZcgMaaokNj9Goyo</td>\n",
       "      <td>1NcktapNVSfbH9FZ9mWZcgMaaokNj9Goyo</td>\n",
       "      <td>48151.0</td>\n",
       "      <td>2016</td>\n",
       "      <td>3</td>\n",
       "      <td>1</td>\n",
       "    </tr>\n",
       "    <tr>\n",
       "      <th>4</th>\n",
       "      <td>1456791197</td>\n",
       "      <td>1PaQM5ngUGzZYS3e9epbY7BiZvrukDoJQB</td>\n",
       "      <td>14jvp9Sj4peh28CKxifLob2jsZAcYPfZ74</td>\n",
       "      <td>20860000.0</td>\n",
       "      <td>2016</td>\n",
       "      <td>3</td>\n",
       "      <td>1</td>\n",
       "    </tr>\n",
       "  </tbody>\n",
       "</table>\n",
       "</div>"
      ],
      "text/plain": [
       "    timestamp                      source_address  \\\n",
       "0  1456791197  16ZZav1Cq5STgj7X5bvP9UgVYJkRk2RDdC   \n",
       "1  1456791197  16ZZav1Cq5STgj7X5bvP9UgVYJkRk2RDdC   \n",
       "2  1456791197  1NcktapNVSfbH9FZ9mWZcgMaaokNj9Goyo   \n",
       "3  1456791197  1NcktapNVSfbH9FZ9mWZcgMaaokNj9Goyo   \n",
       "4  1456791197  1PaQM5ngUGzZYS3e9epbY7BiZvrukDoJQB   \n",
       "\n",
       "                  destination_address      satoshi  year  month  day  \n",
       "0  1KgqD2G2NSZYgHk5m7AW3wxupDj3H76Q8e     156555.0  2016      3    1  \n",
       "1  1NZF5BEn5iCe655fj4vd5UMaXXfVvFH5aJ   26400000.0  2016      3    1  \n",
       "2  1NXmUs99Rn8FzyYMK5bmBAPL81VzmPhH9d  245057610.0  2016      3    1  \n",
       "3  1NcktapNVSfbH9FZ9mWZcgMaaokNj9Goyo      48151.0  2016      3    1  \n",
       "4  14jvp9Sj4peh28CKxifLob2jsZAcYPfZ74   20860000.0  2016      3    1  "
      ]
     },
     "execution_count": 178,
     "metadata": {},
     "output_type": "execute_result"
    }
   ],
   "source": [
    "# Load data again. \n",
    "btc_processed_df = pd.read_csv(\"../data/btc_trans_data/data_raw/btc_data_cleaned.csv\")\n",
    "\n",
    "btc_processed_df.head()"
   ]
  },
  {
   "cell_type": "code",
   "execution_count": 180,
   "id": "4140ab22-6cb5-4753-b5e1-950ad2ac69b3",
   "metadata": {},
   "outputs": [
    {
     "data": {
      "text/plain": [
       "day\n",
       "1    96418\n",
       "Name: count, dtype: int64"
      ]
     },
     "execution_count": 180,
     "metadata": {},
     "output_type": "execute_result"
    }
   ],
   "source": [
    "btc_processed_df['day'].value_counts()"
   ]
  },
  {
   "cell_type": "code",
   "execution_count": 158,
   "id": "eba5f54a-3c53-44b0-a268-1503b6a726bb",
   "metadata": {},
   "outputs": [
    {
     "data": {
      "text/plain": [
       "day\n",
       "19    675\n",
       "17    631\n",
       "24    621\n",
       "22    607\n",
       "9     603\n",
       "18    585\n",
       "1     577\n",
       "25    559\n",
       "26    550\n",
       "8     543\n",
       "10    543\n",
       "23    539\n",
       "30    531\n",
       "7     525\n",
       "21    507\n",
       "5     501\n",
       "11    498\n",
       "16    490\n",
       "2     489\n",
       "6     464\n",
       "4     461\n",
       "20    459\n",
       "29    452\n",
       "28    447\n",
       "27    427\n",
       "3     415\n",
       "13    415\n",
       "14    411\n",
       "15    404\n",
       "12    394\n",
       "31    308\n",
       "Name: count, dtype: int64"
      ]
     },
     "execution_count": 158,
     "metadata": {},
     "output_type": "execute_result"
    }
   ],
   "source": [
    "heist_df['day'].value_counts()"
   ]
  },
  {
   "cell_type": "code",
   "execution_count": 160,
   "id": "6a3d055c-39d5-43e6-a496-076e8d5e03ad",
   "metadata": {},
   "outputs": [
    {
     "data": {
      "text/plain": [
       "0.047875871224692994"
      ]
     },
     "execution_count": 160,
     "metadata": {},
     "output_type": "execute_result"
    }
   ],
   "source": [
    "577 / 12052"
   ]
  },
  {
   "cell_type": "code",
   "execution_count": 164,
   "id": "98183fdc-4263-42db-93cd-157e9286df72",
   "metadata": {},
   "outputs": [
    {
     "data": {
      "text/plain": [
       "482.08"
      ]
     },
     "execution_count": 164,
     "metadata": {},
     "output_type": "execute_result"
    }
   ],
   "source": [
    "12052 * .04"
   ]
  },
  {
   "cell_type": "code",
   "execution_count": 198,
   "id": "95b9a74b-8f7e-4348-8101-eb84c549568d",
   "metadata": {},
   "outputs": [
    {
     "data": {
      "text/plain": [
       "combined\n",
       "False    96418\n",
       "Name: count, dtype: int64"
      ]
     },
     "execution_count": 198,
     "metadata": {},
     "output_type": "execute_result"
    }
   ],
   "source": [
    "# Check if there are matches\n",
    "btc_processed_df['combined'] = btc_processed_df['source_address'] + '_' + btc_processed_df['destination_address']\n",
    "\n",
    "matched = btc_processed_df['combined'].isin([heist_df['address']])\n",
    "\n",
    "matched.value_counts()"
   ]
  },
  {
   "cell_type": "code",
   "execution_count": 186,
   "id": "9fe93c72-e313-4166-8ac1-5ec7c0527f35",
   "metadata": {},
   "outputs": [
    {
     "data": {
      "text/html": [
       "<div>\n",
       "<style scoped>\n",
       "    .dataframe tbody tr th:only-of-type {\n",
       "        vertical-align: middle;\n",
       "    }\n",
       "\n",
       "    .dataframe tbody tr th {\n",
       "        vertical-align: top;\n",
       "    }\n",
       "\n",
       "    .dataframe thead th {\n",
       "        text-align: right;\n",
       "    }\n",
       "</style>\n",
       "<table border=\"1\" class=\"dataframe\">\n",
       "  <thead>\n",
       "    <tr style=\"text-align: right;\">\n",
       "      <th></th>\n",
       "      <th>num_legs</th>\n",
       "      <th>num_wings</th>\n",
       "    </tr>\n",
       "  </thead>\n",
       "  <tbody>\n",
       "    <tr>\n",
       "      <th>falcon</th>\n",
       "      <td>2</td>\n",
       "      <td>2</td>\n",
       "    </tr>\n",
       "    <tr>\n",
       "      <th>dog</th>\n",
       "      <td>4</td>\n",
       "      <td>0</td>\n",
       "    </tr>\n",
       "  </tbody>\n",
       "</table>\n",
       "</div>"
      ],
      "text/plain": [
       "        num_legs  num_wings\n",
       "falcon         2          2\n",
       "dog            4          0"
      ]
     },
     "execution_count": 186,
     "metadata": {},
     "output_type": "execute_result"
    }
   ],
   "source": [
    "df = pd.DataFrame({'num_legs': [2, 4], 'num_wings': [2, 0]},\n",
    "                  index=['falcon', 'dog'])\n",
    "\n",
    "df"
   ]
  },
  {
   "cell_type": "code",
   "execution_count": 196,
   "id": "19f3fe51-6c1a-427c-b0be-d52999d62017",
   "metadata": {},
   "outputs": [
    {
     "data": {
      "text/plain": [
       "falcon     True\n",
       "dog       False\n",
       "Name: num_legs, dtype: bool"
      ]
     },
     "execution_count": 196,
     "metadata": {},
     "output_type": "execute_result"
    }
   ],
   "source": [
    "df['num_legs'].isin([2])"
   ]
  },
  {
   "cell_type": "code",
   "execution_count": 202,
   "id": "96edd882-8091-423f-871d-976b22e29303",
   "metadata": {},
   "outputs": [
    {
     "name": "stdout",
     "output_type": "stream",
     "text": [
      "[1        1123pJv8jzeFQaCV4w644pzQJzVWay2zcA\n",
      "2        112536im7hy6wtKbpH1qYDWtTyMRAcA2p7\n",
      "3        1126eDRw2wqSkWosjTCre8cjjQW8sSeWH7\n",
      "4        1129TSjKtx65E35GiUo4AYVeyo48twbrGX\n",
      "5        112AmFATxzhuSpvtz1hfpa3Zrw3BG276pc\n",
      "                        ...                \n",
      "41405    35iCvpMMnUWcSWrYtLJLXqe9xo5CYEWRhw\n",
      "41409    377CY1m8W2qbQQX5HHjziimdh2faGjDeLv\n",
      "41410    377CY1m8W2qbQQX5HHjziimdh2faGjDeLv\n",
      "41411    377CY1m8W2qbQQX5HHjziimdh2faGjDeLv\n",
      "41412    377CY1m8W2qbQQX5HHjziimdh2faGjDeLv\n",
      "Name: address, Length: 15631, dtype: object]\n"
     ]
    }
   ],
   "source": [
    "aa = [heist_df['address']]\n",
    "\n",
    "print(aa)"
   ]
  },
  {
   "cell_type": "code",
   "execution_count": 204,
   "id": "5ff1f6c2-bbe8-4e1a-bcd3-5acb72885db4",
   "metadata": {},
   "outputs": [
    {
     "name": "stdout",
     "output_type": "stream",
     "text": [
      "<class 'pandas.core.frame.DataFrame'>\n",
      "Index: 15631 entries, 1 to 41412\n",
      "Data columns (total 5 columns):\n",
      " #   Column   Non-Null Count  Dtype  \n",
      "---  ------   --------------  -----  \n",
      " 0   address  15631 non-null  object \n",
      " 1   year     15631 non-null  int64  \n",
      " 2   income   15631 non-null  float64\n",
      " 3   day      15631 non-null  int64  \n",
      " 4   month    15631 non-null  int64  \n",
      "dtypes: float64(1), int64(3), object(1)\n",
      "memory usage: 732.7+ KB\n"
     ]
    }
   ],
   "source": [
    "heist_df.info()"
   ]
  },
  {
   "cell_type": "code",
   "execution_count": 206,
   "id": "ad6b49bb-8226-4197-a279-3fdabebde41e",
   "metadata": {},
   "outputs": [
    {
     "name": "stdout",
     "output_type": "stream",
     "text": [
      "<class 'pandas.core.frame.DataFrame'>\n",
      "RangeIndex: 96418 entries, 0 to 96417\n",
      "Data columns (total 8 columns):\n",
      " #   Column               Non-Null Count  Dtype  \n",
      "---  ------               --------------  -----  \n",
      " 0   timestamp            96418 non-null  int64  \n",
      " 1   source_address       96418 non-null  object \n",
      " 2   destination_address  96418 non-null  object \n",
      " 3   satoshi              96418 non-null  float64\n",
      " 4   year                 96418 non-null  int64  \n",
      " 5   month                96418 non-null  int64  \n",
      " 6   day                  96418 non-null  int64  \n",
      " 7   combined             96418 non-null  object \n",
      "dtypes: float64(1), int64(4), object(3)\n",
      "memory usage: 5.9+ MB\n"
     ]
    }
   ],
   "source": [
    "btc_processed_df.info()"
   ]
  },
  {
   "cell_type": "code",
   "execution_count": 210,
   "id": "514561b5-5e90-4bab-8a8c-c100c914289b",
   "metadata": {},
   "outputs": [
    {
     "name": "stdout",
     "output_type": "stream",
     "text": [
      "Addresses found in source_address: set()\n",
      "Addresses found in destination_address: {'18nYi7tFNRYhyLgWwYgKSrH8KTHFcTm1yx'}\n",
      "All matching addresses: {'18nYi7tFNRYhyLgWwYgKSrH8KTHFcTm1yx'}\n"
     ]
    }
   ],
   "source": [
    "heist_addresses = set(heist_df['address'])\n",
    "\n",
    "# Step 2: Extract the unique source and destination addresses from the second DataFrame\n",
    "source_addresses = set(btc_processed_df['source_address'])\n",
    "destination_addresses = set(btc_processed_df['destination_address'])\n",
    "\n",
    "# Step 3: Check for matches\n",
    "matches_in_source = heist_addresses.intersection(source_addresses)\n",
    "matches_in_destination = heist_addresses.intersection(destination_addresses)\n",
    "\n",
    "# Step 4: Combine results\n",
    "all_matches = matches_in_source.union(matches_in_destination)\n",
    "\n",
    "print(\"Addresses found in source_address:\", matches_in_source)\n",
    "print(\"Addresses found in destination_address:\", matches_in_destination)\n",
    "print(\"All matching addresses:\", all_matches)"
   ]
  },
  {
   "cell_type": "code",
   "execution_count": 214,
   "id": "23d2701c-f3e2-40c9-a583-2c15b67e9b3a",
   "metadata": {},
   "outputs": [
    {
     "name": "stdout",
     "output_type": "stream",
     "text": [
      "1\n"
     ]
    }
   ],
   "source": [
    "aa = btc_processed_df[btc_processed_df['destination_address'] == '18nYi7tFNRYhyLgWwYgKSrH8KTHFcTm1yx']\n",
    "\n",
    "print(len(aa))"
   ]
  }
 ],
 "metadata": {
  "kernelspec": {
   "display_name": "Python 3 (ipykernel)",
   "language": "python",
   "name": "python3"
  },
  "language_info": {
   "codemirror_mode": {
    "name": "ipython",
    "version": 3
   },
   "file_extension": ".py",
   "mimetype": "text/x-python",
   "name": "python",
   "nbconvert_exporter": "python",
   "pygments_lexer": "ipython3",
   "version": "3.12.4"
  }
 },
 "nbformat": 4,
 "nbformat_minor": 5
}
