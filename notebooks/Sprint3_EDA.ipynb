{
 "cells": [
  {
   "cell_type": "markdown",
   "id": "a8ce52ca-3de1-42cb-8dab-e6be1b0adfe7",
   "metadata": {},
   "source": [
    "# Capstone: Sprint 3: Exploratory Data Modeling\n",
    "Yael Brown \\\n",
    "November 14, 2024 "
   ]
  },
  {
   "cell_type": "code",
   "execution_count": 2,
   "id": "5bdce255-319b-4604-86ef-3c7d0cc496c1",
   "metadata": {},
   "outputs": [],
   "source": [
    "# Load libraries\n",
    "import numpy as np\n",
    "import pandas as pd\n",
    "import matplotlib.pyplot as plt\n",
    "import warnings"
   ]
  },
  {
   "cell_type": "code",
   "execution_count": 3,
   "id": "e487a1e7-f055-47b0-9b6a-b3d941e4de4e",
   "metadata": {},
   "outputs": [],
   "source": [
    "# Suppress warnings in the notebook\n",
    "warnings.filterwarnings(\"ignore\")"
   ]
  },
  {
   "cell_type": "markdown",
   "id": "deb34588-8097-4f90-80ec-58b0aa599378",
   "metadata": {},
   "source": [
    "### Load Data"
   ]
  },
  {
   "cell_type": "code",
   "execution_count": 4,
   "id": "016fa5dc-9775-43bf-9259-86b8e19609ac",
   "metadata": {},
   "outputs": [
    {
     "name": "stdout",
     "output_type": "stream",
     "text": [
      "(80120, 12) \n",
      "\n",
      "<class 'pandas.core.frame.DataFrame'>\n",
      "RangeIndex: 80120 entries, 0 to 80119\n",
      "Data columns (total 12 columns):\n",
      " #   Column               Non-Null Count  Dtype  \n",
      "---  ------               --------------  -----  \n",
      " 0   Unnamed: 0           80120 non-null  int64  \n",
      " 1   timestamp            80120 non-null  int64  \n",
      " 2   source_address       80120 non-null  object \n",
      " 3   destination_address  80120 non-null  object \n",
      " 4   price_satoshi        80120 non-null  float64\n",
      " 5   year                 80120 non-null  int64  \n",
      " 6   month                80120 non-null  int64  \n",
      " 7   day                  80120 non-null  int64  \n",
      " 8   price_btc_usd        80120 non-null  float64\n",
      " 9   price_btc            80120 non-null  float64\n",
      " 10  price_tx_usd         80120 non-null  float64\n",
      " 11  is_possible_fraud    80120 non-null  int64  \n",
      "dtypes: float64(4), int64(6), object(2)\n",
      "memory usage: 7.3+ MB\n",
      "None \n",
      "\n",
      "   Unnamed: 0   timestamp                      source_address  \\\n",
      "0           0  1456791197  16ZZav1Cq5STgj7X5bvP9UgVYJkRk2RDdC   \n",
      "1           1  1456791197  16ZZav1Cq5STgj7X5bvP9UgVYJkRk2RDdC   \n",
      "2           2  1456791197  1NcktapNVSfbH9FZ9mWZcgMaaokNj9Goyo   \n",
      "3           3  1456791197  1NcktapNVSfbH9FZ9mWZcgMaaokNj9Goyo   \n",
      "4           4  1456791197  1PaQM5ngUGzZYS3e9epbY7BiZvrukDoJQB   \n",
      "\n",
      "                  destination_address  price_satoshi  year  month  day  \\\n",
      "0  1KgqD2G2NSZYgHk5m7AW3wxupDj3H76Q8e       156555.0  2016      3    1   \n",
      "1  1NZF5BEn5iCe655fj4vd5UMaXXfVvFH5aJ     26400000.0  2016      3    1   \n",
      "2  1NXmUs99Rn8FzyYMK5bmBAPL81VzmPhH9d    245057610.0  2016      3    1   \n",
      "3  1NcktapNVSfbH9FZ9mWZcgMaaokNj9Goyo        48151.0  2016      3    1   \n",
      "4  14jvp9Sj4peh28CKxifLob2jsZAcYPfZ74     20860000.0  2016      3    1   \n",
      "\n",
      "   price_btc_usd  price_btc  price_tx_usd  is_possible_fraud  \n",
      "0     423.989014   0.001566      0.663776                  0  \n",
      "1     423.989014   0.264000    111.933100                  0  \n",
      "2     423.989014   2.450576   1039.017344                  0  \n",
      "3     423.989014   0.000482      0.204155                  0  \n",
      "4     423.989014   0.208600     88.444108                  0   \n",
      "\n"
     ]
    }
   ],
   "source": [
    "# Load processed dataframe\n",
    "df = pd.read_csv(\"../data/sprint3_data_processed.csv\")\n",
    "\n",
    "print(df.shape, \"\\n\")\n",
    "print(df.info(), \"\\n\")\n",
    "print(df.head(), \"\\n\")"
   ]
  },
  {
   "cell_type": "code",
   "execution_count": null,
   "id": "cd83ad3b-1aa8-476b-89a8-1afd9a3da3a2",
   "metadata": {},
   "outputs": [],
   "source": []
  },
  {
   "cell_type": "code",
   "execution_count": null,
   "id": "0af51b94-e8dd-4b5e-b6ef-4f174a977738",
   "metadata": {},
   "outputs": [],
   "source": []
  },
  {
   "cell_type": "code",
   "execution_count": null,
   "id": "5a7662a0-40e4-4e6e-8383-7f6a5277fc2a",
   "metadata": {},
   "outputs": [],
   "source": []
  },
  {
   "cell_type": "code",
   "execution_count": null,
   "id": "b3a265d2-4b47-45ad-a16f-8ff90a588f8d",
   "metadata": {},
   "outputs": [],
   "source": []
  },
  {
   "cell_type": "code",
   "execution_count": null,
   "id": "fa3f341e-040e-4629-9928-d90694636fe4",
   "metadata": {},
   "outputs": [],
   "source": []
  },
  {
   "cell_type": "code",
   "execution_count": null,
   "id": "4d89431f-d47b-496f-9dcb-d141cc851b96",
   "metadata": {},
   "outputs": [],
   "source": []
  },
  {
   "cell_type": "code",
   "execution_count": null,
   "id": "40b41fbc-468b-4401-8dfe-97263409d787",
   "metadata": {},
   "outputs": [],
   "source": []
  },
  {
   "cell_type": "code",
   "execution_count": null,
   "id": "c7d7196f-16f5-4d64-a8bb-bae37af0c129",
   "metadata": {},
   "outputs": [],
   "source": []
  },
  {
   "cell_type": "code",
   "execution_count": null,
   "id": "8473ae6c-cf07-4ab8-abdd-6184e1bc3eb0",
   "metadata": {},
   "outputs": [],
   "source": []
  },
  {
   "cell_type": "code",
   "execution_count": null,
   "id": "3c9305ca-e5e9-4c87-90a9-783df02b3c4f",
   "metadata": {},
   "outputs": [],
   "source": []
  }
 ],
 "metadata": {
  "kernelspec": {
   "display_name": "Python 3 (ipykernel)",
   "language": "python",
   "name": "python3"
  },
  "language_info": {
   "codemirror_mode": {
    "name": "ipython",
    "version": 3
   },
   "file_extension": ".py",
   "mimetype": "text/x-python",
   "name": "python",
   "nbconvert_exporter": "python",
   "pygments_lexer": "ipython3",
   "version": "3.12.4"
  }
 },
 "nbformat": 4,
 "nbformat_minor": 5
}
