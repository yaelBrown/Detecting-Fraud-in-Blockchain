{
 "cells": [
  {
   "cell_type": "code",
   "execution_count": 2,
   "id": "7ee71459-2490-4948-8e22-f3572d45f478",
   "metadata": {},
   "outputs": [],
   "source": [
    "# Load libraries\n",
    "import pandas as pd\n",
    "\n",
    "from utils import Utils"
   ]
  },
  {
   "cell_type": "code",
   "execution_count": 90,
   "id": "4a3dc3d3-2d23-40e4-90a6-f590f3be71df",
   "metadata": {},
   "outputs": [
    {
     "data": {
      "text/plain": [
       "'eth_fraud_transaction_dataset.csv'"
      ]
     },
     "execution_count": 90,
     "metadata": {},
     "output_type": "execute_result"
    }
   ],
   "source": [
    "# Filenames within the ../data/ folder for reference\n",
    "\"eth_Ethereum Historical Data.csv\"\n",
    "\"eth_Ethereum_Historical_Data_Investing.csv\"\n",
    "\"eth_etherscan_export.csv\"\n",
    "\"eth_fraud_transaction_dataset.csv\""
   ]
  },
  {
   "cell_type": "code",
   "execution_count": 92,
   "id": "81c0d77f-24ac-46bf-a171-c0519bbdb2e8",
   "metadata": {},
   "outputs": [],
   "source": [
    "# Define reusable code\n",
    "cols_heads_tails = Utils.cols_heads_tails"
   ]
  },
  {
   "cell_type": "markdown",
   "id": "6cbd6af6-dc9a-44ee-a2dd-7b7fdae2e587",
   "metadata": {},
   "source": [
    "## eth_Ethereum Historical Data.csv\n",
    "\n",
    "Daily price data from March 10, 2016 - August 02 - 2020. Displays Open, High, Low, and 'Price' for that day. "
   ]
  },
  {
   "cell_type": "code",
   "execution_count": 79,
   "id": "291bf7c5-590a-43dd-a553-e359ef877481",
   "metadata": {},
   "outputs": [
    {
     "name": "stdout",
     "output_type": "stream",
     "text": [
      "Index(['Date', 'Price', 'Open', 'High', 'Low', 'Vol.', 'Change %'], dtype='object') \n",
      "\n",
      "           Date   Price    Open    High     Low    Vol. Change %\n",
      "0  Aug 02, 2020  368.23  387.15  415.08  335.76  16.78M   -4.88%\n",
      "1  Aug 01, 2020  387.14  346.48  392.37  343.33  11.03M   11.73%\n",
      "2  Jul 31, 2020  346.51  334.84  349.34  329.02   8.69M    3.48%\n",
      "3  Jul 30, 2020  334.87  317.79  341.11  314.83   9.07M    5.36%\n",
      "4  Jul 29, 2020  317.82  316.95  324.93  312.64   8.72M    0.27% \n",
      "\n",
      "              Date  Price   Open   High    Low    Vol. Change %\n",
      "1602  Mar 14, 2016  12.50  15.07  15.07  11.40  92.18K  -17.05%\n",
      "1603  Mar 13, 2016  15.07  12.92  15.07  12.92   1.30K   16.64%\n",
      "1604  Mar 12, 2016  12.92  11.95  13.45  11.95   0.83K    8.12%\n",
      "1605  Mar 11, 2016  11.95  11.75  11.95  11.75   0.18K    1.70%\n",
      "1606  Mar 10, 2016  11.75  11.20  11.85  11.07   0.00K    4.91% \n",
      "\n"
     ]
    }
   ],
   "source": [
    "df_eth_hist = pd.read_csv(\"../data/eth_Ethereum Historical Data.csv\")\n",
    "\n",
    "cols_heads_tails(df_eth_hist)"
   ]
  },
  {
   "cell_type": "code",
   "execution_count": 19,
   "id": "729f71ce-4def-4f78-b1dd-9b6c08c6bd2d",
   "metadata": {},
   "outputs": [
    {
     "data": {
      "text/plain": [
       "Date        0\n",
       "Price       0\n",
       "Open        0\n",
       "High        0\n",
       "Low         0\n",
       "Vol.        0\n",
       "Change %    0\n",
       "dtype: int64"
      ]
     },
     "execution_count": 19,
     "metadata": {},
     "output_type": "execute_result"
    }
   ],
   "source": [
    "# Check for NA's\n",
    "df_eth_hist.isna().sum()"
   ]
  },
  {
   "cell_type": "markdown",
   "id": "2bdc3589-7520-47a9-8752-41096c7c1b82",
   "metadata": {},
   "source": [
    "## eth_Ethereum_Historical_Data_Investing.csv\n",
    "\n",
    "This appears to be the same pricing data just under a different name. "
   ]
  },
  {
   "cell_type": "code",
   "execution_count": 81,
   "id": "95641726-d014-48d3-9427-55136fc3a2e5",
   "metadata": {},
   "outputs": [
    {
     "name": "stdout",
     "output_type": "stream",
     "text": [
      "Index(['Date', 'Price', 'Open', 'High', 'Low', 'Vol.', 'Change %'], dtype='object') \n",
      "\n",
      "           Date     Price      Open      High       Low   Vol. Change %\n",
      "0  Jul 30, 2022  1,709.05  1,720.80  1,734.13  1,679.08  1.29M   -0.68%\n",
      "1  Jul 29, 2022  1,720.77  1,725.97  1,764.74  1,658.26  1.44M   -0.30%\n",
      "2  Jul 28, 2022  1,726.01  1,635.99  1,781.39  1,597.67  1.87M    5.50%\n",
      "3  Jul 27, 2022  1,636.01  1,449.65  1,643.70  1,421.17  1.80M   12.77%\n",
      "4  Jul 26, 2022  1,450.70  1,438.76  1,451.46  1,357.70  1.42M    0.85% \n",
      "\n",
      "              Date  Price   Open   High    Low    Vol. Change %\n",
      "2329  Mar 14, 2016  12.50  15.07  15.07  11.40  92.18K  -17.05%\n",
      "2330  Mar 13, 2016  15.07  12.92  15.07  12.92   1.30K   16.64%\n",
      "2331  Mar 12, 2016  12.92  11.95  13.45  11.95   0.83K    8.12%\n",
      "2332  Mar 11, 2016  11.95  11.75  11.95  11.75   0.18K    1.70%\n",
      "2333  Mar 10, 2016  11.75  11.20  11.85  11.07   0.00K    4.91% \n",
      "\n"
     ]
    }
   ],
   "source": [
    "df_eth_hist2 = pd.read_csv(\"../data/eth_Ethereum_Historical_Data_Investing.csv\")\n",
    "\n",
    "cols_heads_tails(df_eth_hist2)"
   ]
  },
  {
   "cell_type": "markdown",
   "id": "d619c2df-88b9-4998-8e75-17d94d1a4b5d",
   "metadata": {},
   "source": [
    "# eth_etherscan_export.csv\n",
    "\n",
    "This is transaction data but only for 17 days. "
   ]
  },
  {
   "cell_type": "code",
   "execution_count": 83,
   "id": "752d5733-64a6-4b11-b11f-a91c118d6098",
   "metadata": {},
   "outputs": [
    {
     "name": "stdout",
     "output_type": "stream",
     "text": [
      "Index(['Transaction Hash', 'Blockno', 'UnixTimestamp', 'DateTime (UTC)',\n",
      "       'From', 'To', 'ContractAddress', 'Value_IN(ETH)', 'Value_OUT(ETH)',\n",
      "       'CurrentValue @ $2457.36076233203/Eth', 'TxnFee(ETH)', 'TxnFee(USD)',\n",
      "       'Historical $Price/Eth', 'Status', 'ErrCode', 'Method'],\n",
      "      dtype='object') \n",
      "\n",
      "                                    Transaction Hash  Blockno  UnixTimestamp  \\\n",
      "0  0x6ace7da68c5a75b7e278a555152f11f9fb37aaa7e682...  1260840     1459571642   \n",
      "1  0x8a9664d15c0b4b425bc5e9a855b7d5033f9d83a90222...  1260881     1459572170   \n",
      "2  0x9240f8fe4414e04660843959ed65d690ae13b98ef5f6...  1260881     1459572170   \n",
      "3  0x2507b94a2209d3c9ed738c0e4878f1f000fb202cf0bb...  1260882     1459572228   \n",
      "4  0xf8a3ca9d9d1274c37ecdf3510608fc2d0b2c179da579...  1260882     1459572228   \n",
      "\n",
      "        DateTime (UTC)                                        From   To  \\\n",
      "0  2016-04-02 04:34:02  0x61c808d82a3ac53231750dadc13c777b59310bd9  NaN   \n",
      "1  2016-04-02 04:42:50  0x61c808d82a3ac53231750dadc13c777b59310bd9  NaN   \n",
      "2  2016-04-02 04:42:50  0x61c808d82a3ac53231750dadc13c777b59310bd9  NaN   \n",
      "3  2016-04-02 04:43:48  0x61c808d82a3ac53231750dadc13c777b59310bd9  NaN   \n",
      "4  2016-04-02 04:43:48  0x61c808d82a3ac53231750dadc13c777b59310bd9  NaN   \n",
      "\n",
      "                              ContractAddress  Value_IN(ETH)  Value_OUT(ETH)  \\\n",
      "0  0xa441863b16c862b68c50608d3c0c6a6435c9dd5d            0.0             0.0   \n",
      "1  0x8e13ec9113ed63bb69cb8a069ecbda65591fc236            0.0             0.0   \n",
      "2  0x6dcf41b813121b7970c6d35dacd8ede014149dce            0.0             0.0   \n",
      "3  0x8474369504e4a0e8e7a89322ec0517bb866b3fdb            0.0             0.0   \n",
      "4  0xddbb093cf8235f7879f41fce99ddaf427b33b33d            0.0             0.0   \n",
      "\n",
      "   CurrentValue @ $2457.36076233203/Eth  TxnFee(ETH)  TxnFee(USD)  \\\n",
      "0                          1.179000e-13      0.00106     2.604802   \n",
      "1                          1.154000e-13      0.00106     2.604802   \n",
      "2                          1.081000e-13      0.00106     2.604802   \n",
      "3                          9.820000e-14      0.00106     2.604802   \n",
      "4                          5.890000e-14      0.00106     2.604802   \n",
      "\n",
      "   Historical $Price/Eth  Status  ErrCode    Method  \n",
      "0                  11.61     NaN      NaN  Transfer  \n",
      "1                  11.61     NaN      NaN  Transfer  \n",
      "2                  11.61     NaN      NaN  Transfer  \n",
      "3                  11.61     NaN      NaN  Transfer  \n",
      "4                  11.61     NaN      NaN  Transfer   \n",
      "\n",
      "                                       Transaction Hash  Blockno  \\\n",
      "4995  0xbbb4129920dd4ac8c6845c9ea52fd91ab3ea15e42d9e...  1363019   \n",
      "4996  0x462a4239b56b273431566919542b331369b6a9fb441d...  1363019   \n",
      "4997  0x13e89478b9aa9a3ddafe9ecbb2a30d96f6c09782fcca...  1363019   \n",
      "4998  0x6adfb0621c47db3bd63df3ad0774913831cf7bfa4133...  1363019   \n",
      "4999  0xb6671b45b3e283abd251dee99dfa7f1922b5c34929c6...  1363019   \n",
      "\n",
      "      UnixTimestamp       DateTime (UTC)  \\\n",
      "4995     1461037015  2016-04-19 03:36:55   \n",
      "4996     1461037015  2016-04-19 03:36:55   \n",
      "4997     1461037015  2016-04-19 03:36:55   \n",
      "4998     1461037015  2016-04-19 03:36:55   \n",
      "4999     1461037015  2016-04-19 03:36:55   \n",
      "\n",
      "                                            From  \\\n",
      "4995  0x61c808d82a3ac53231750dadc13c777b59310bd9   \n",
      "4996  0x61c808d82a3ac53231750dadc13c777b59310bd9   \n",
      "4997  0x61c808d82a3ac53231750dadc13c777b59310bd9   \n",
      "4998  0x61c808d82a3ac53231750dadc13c777b59310bd9   \n",
      "4999  0x61c808d82a3ac53231750dadc13c777b59310bd9   \n",
      "\n",
      "                                              To ContractAddress  \\\n",
      "4995  0xa19df88f07a7d7195b384284b18ce7c3ffeb35f7             NaN   \n",
      "4996  0x666463665cc88a4efbbb014dd5fc23a5139f3969             NaN   \n",
      "4997  0xb1a9c981fa2d35e015a6d13e80ec1eb85507587e             NaN   \n",
      "4998  0xe19ffb70e148a76d26698036a9ffd22057967d1b             NaN   \n",
      "4999  0x40a1d325a5d97b6f38d2037aee6ffc08e37b20d2             NaN   \n",
      "\n",
      "      Value_IN(ETH)  Value_OUT(ETH)  CurrentValue @ $2457.36076233203/Eth  \\\n",
      "4995            0.0        0.549863                           1351.211502   \n",
      "4996            0.0        0.547349                           1345.034692   \n",
      "4997            0.0        0.535339                           1315.521163   \n",
      "4998            0.0        0.529353                           1300.811311   \n",
      "4999            0.0        0.526893                           1294.766264   \n",
      "\n",
      "      TxnFee(ETH)  TxnFee(USD)  Historical $Price/Eth  Status  ErrCode  \\\n",
      "4995      0.00042     1.032092                   8.77     NaN      NaN   \n",
      "4996      0.00042     1.032092                   8.77     NaN      NaN   \n",
      "4997      0.00042     1.032092                   8.77     NaN      NaN   \n",
      "4998      0.00042     1.032092                   8.77     NaN      NaN   \n",
      "4999      0.00042     1.032092                   8.77     NaN      NaN   \n",
      "\n",
      "        Method  \n",
      "4995  Transfer  \n",
      "4996  Transfer  \n",
      "4997  Transfer  \n",
      "4998  Transfer  \n",
      "4999  Transfer   \n",
      "\n"
     ]
    }
   ],
   "source": [
    "df_eth_etherscan = pd.read_csv(\"../data/eth_etherscan_export.csv\")\n",
    "\n",
    "cols_heads_tails(df_eth_etherscan)"
   ]
  },
  {
   "cell_type": "code",
   "execution_count": 60,
   "id": "8051bbf5-5ad2-47be-bc31-f237f990dec0",
   "metadata": {},
   "outputs": [
    {
     "name": "stdout",
     "output_type": "stream",
     "text": [
      "0    2016-04-02 04:34:02\n",
      "Name: DateTime (UTC), dtype: object \n",
      "\n",
      "4999    2016-04-19 03:36:55\n",
      "Name: DateTime (UTC), dtype: object\n"
     ]
    }
   ],
   "source": [
    "print(df_eth_etherscan[\"DateTime (UTC)\"].head(1), \"\\n\")\n",
    "print(df_eth_etherscan[\"DateTime (UTC)\"].tail(1))"
   ]
  },
  {
   "cell_type": "code",
   "execution_count": 63,
   "id": "db181de6-fb1a-494a-98f8-2145d941fcc1",
   "metadata": {},
   "outputs": [
    {
     "data": {
      "text/plain": [
       "Transaction Hash                           0\n",
       "Blockno                                    0\n",
       "UnixTimestamp                              0\n",
       "DateTime (UTC)                             0\n",
       "From                                       0\n",
       "To                                       127\n",
       "ContractAddress                         4873\n",
       "Value_IN(ETH)                              0\n",
       "Value_OUT(ETH)                             0\n",
       "CurrentValue @ $2457.36076233203/Eth       0\n",
       "TxnFee(ETH)                                0\n",
       "TxnFee(USD)                                0\n",
       "Historical $Price/Eth                      0\n",
       "Status                                  5000\n",
       "ErrCode                                 5000\n",
       "Method                                     0\n",
       "dtype: int64"
      ]
     },
     "execution_count": 63,
     "metadata": {},
     "output_type": "execute_result"
    }
   ],
   "source": [
    "# Check for NA's\n",
    "df_eth_etherscan.isna().sum()"
   ]
  },
  {
   "cell_type": "markdown",
   "id": "d827ca62-df1e-4984-9ece-fade9741e52b",
   "metadata": {},
   "source": [
    "There are some NA's. I will have to determine why there are NA's and how its possible to have a transaction to a unspecified address. Also, what does status and errCode are. "
   ]
  },
  {
   "cell_type": "code",
   "execution_count": 66,
   "id": "6a74274c-223d-4bc9-8e4d-896be26c24f2",
   "metadata": {},
   "outputs": [
    {
     "data": {
      "text/plain": [
       "Transaction Hash                        5000\n",
       "Blockno                                 5000\n",
       "UnixTimestamp                           5000\n",
       "DateTime (UTC)                          5000\n",
       "From                                    5000\n",
       "To                                      4873\n",
       "ContractAddress                          127\n",
       "Value_IN(ETH)                           5000\n",
       "Value_OUT(ETH)                          5000\n",
       "CurrentValue @ $2457.36076233203/Eth    5000\n",
       "TxnFee(ETH)                             5000\n",
       "TxnFee(USD)                             5000\n",
       "Historical $Price/Eth                   5000\n",
       "Status                                     0\n",
       "ErrCode                                    0\n",
       "Method                                  5000\n",
       "dtype: int64"
      ]
     },
     "execution_count": 66,
     "metadata": {},
     "output_type": "execute_result"
    }
   ],
   "source": [
    "df_eth_etherscan.count()"
   ]
  },
  {
   "cell_type": "markdown",
   "id": "e616edbc-ad0f-4794-897a-62bc9a75a21d",
   "metadata": {},
   "source": [
    "Appears to be a max of 5000 lines in this given time frame at this time. "
   ]
  },
  {
   "cell_type": "markdown",
   "id": "9adedc6d-58fb-471e-ba59-2936dcca8cac",
   "metadata": {},
   "source": [
    "# eth_fraud_transaction_dataset.csv"
   ]
  },
  {
   "cell_type": "code",
   "execution_count": 85,
   "id": "a204cb08-53df-4f8a-92c8-5c5f79ab5187",
   "metadata": {},
   "outputs": [
    {
     "name": "stdout",
     "output_type": "stream",
     "text": [
      "Index(['Unnamed: 0', 'Index', 'Address', 'FLAG', 'Avg min between sent tnx',\n",
      "       'Avg min between received tnx',\n",
      "       'Time Diff between first and last (Mins)', 'Sent tnx', 'Received Tnx',\n",
      "       'Number of Created Contracts', 'Unique Received From Addresses',\n",
      "       'Unique Sent To Addresses', 'min value received', 'max value received ',\n",
      "       'avg val received', 'min val sent', 'max val sent', 'avg val sent',\n",
      "       'min value sent to contract', 'max val sent to contract',\n",
      "       'avg value sent to contract',\n",
      "       'total transactions (including tnx to create contract',\n",
      "       'total Ether sent', 'total ether received',\n",
      "       'total ether sent contracts', 'total ether balance',\n",
      "       ' Total ERC20 tnxs', ' ERC20 total Ether received',\n",
      "       ' ERC20 total ether sent', ' ERC20 total Ether sent contract',\n",
      "       ' ERC20 uniq sent addr', ' ERC20 uniq rec addr',\n",
      "       ' ERC20 uniq sent addr.1', ' ERC20 uniq rec contract addr',\n",
      "       ' ERC20 avg time between sent tnx', ' ERC20 avg time between rec tnx',\n",
      "       ' ERC20 avg time between rec 2 tnx',\n",
      "       ' ERC20 avg time between contract tnx', ' ERC20 min val rec',\n",
      "       ' ERC20 max val rec', ' ERC20 avg val rec', ' ERC20 min val sent',\n",
      "       ' ERC20 max val sent', ' ERC20 avg val sent',\n",
      "       ' ERC20 min val sent contract', ' ERC20 max val sent contract',\n",
      "       ' ERC20 avg val sent contract', ' ERC20 uniq sent token name',\n",
      "       ' ERC20 uniq rec token name', ' ERC20 most sent token type',\n",
      "       ' ERC20_most_rec_token_type'],\n",
      "      dtype='object') \n",
      "\n",
      "   Unnamed: 0  Index                                     Address  FLAG  \\\n",
      "0           0      1  0x00009277775ac7d0d59eaad8fee3d10ac6c805e8     0   \n",
      "1           1      2  0x0002b44ddb1476db43c868bd494422ee4c136fed     0   \n",
      "2           2      3  0x0002bda54cb772d040f779e88eb453cac0daa244     0   \n",
      "3           3      4  0x00038e6ba2fd5c09aedb96697c8d7b8fa6632e5e     0   \n",
      "4           4      5  0x00062d1dd1afb6fb02540ddad9cdebfe568e0d89     0   \n",
      "\n",
      "   Avg min between sent tnx  Avg min between received tnx  \\\n",
      "0                    844.26                       1093.71   \n",
      "1                  12709.07                       2958.44   \n",
      "2                 246194.54                       2434.02   \n",
      "3                  10219.60                      15785.09   \n",
      "4                     36.61                      10707.77   \n",
      "\n",
      "   Time Diff between first and last (Mins)  Sent tnx  Received Tnx  \\\n",
      "0                                704785.63       721            89   \n",
      "1                               1218216.73        94             8   \n",
      "2                                516729.30         2            10   \n",
      "3                                397555.90        25             9   \n",
      "4                                382472.42      4598            20   \n",
      "\n",
      "   Number of Created Contracts  ...   ERC20 min val sent   ERC20 max val sent  \\\n",
      "0                            0  ...             0.000000         1.683100e+07   \n",
      "1                            0  ...             2.260809         2.260809e+00   \n",
      "2                            0  ...             0.000000         0.000000e+00   \n",
      "3                            0  ...           100.000000         9.029231e+03   \n",
      "4                            1  ...             0.000000         4.500000e+04   \n",
      "\n",
      "    ERC20 avg val sent   ERC20 min val sent contract  \\\n",
      "0        271779.920000                           0.0   \n",
      "1             2.260809                           0.0   \n",
      "2             0.000000                           0.0   \n",
      "3          3804.076893                           0.0   \n",
      "4         13726.659220                           0.0   \n",
      "\n",
      "    ERC20 max val sent contract   ERC20 avg val sent contract  \\\n",
      "0                           0.0                           0.0   \n",
      "1                           0.0                           0.0   \n",
      "2                           0.0                           0.0   \n",
      "3                           0.0                           0.0   \n",
      "4                           0.0                           0.0   \n",
      "\n",
      "    ERC20 uniq sent token name   ERC20 uniq rec token name  \\\n",
      "0                         39.0                        57.0   \n",
      "1                          1.0                         7.0   \n",
      "2                          0.0                         8.0   \n",
      "3                          1.0                        11.0   \n",
      "4                          6.0                        27.0   \n",
      "\n",
      "    ERC20 most sent token type   ERC20_most_rec_token_type  \n",
      "0                    Cofoundit                   Numeraire  \n",
      "1               Livepeer Token              Livepeer Token  \n",
      "2                          NaN                       XENON  \n",
      "3                       Raiden                       XENON  \n",
      "4                StatusNetwork                         EOS  \n",
      "\n",
      "[5 rows x 51 columns] \n",
      "\n",
      "      Unnamed: 0  Index                                     Address  FLAG  \\\n",
      "9836        9836   2175  0xff481ca14e6c16b79fc8ab299b4d2387ec8ecdd2     1   \n",
      "9837        9837   2176  0xff718805bb9199ebf024ab6acd333e603ad77c85     1   \n",
      "9838        9838   2177  0xff8e6af02d41a576a0c82f7835535193e1a6bccc     1   \n",
      "9839        9839   2178  0xffde23396d57e10abf58bd929bb1e856c7718218     1   \n",
      "9840        9840   2179  0xd624d046edbdef805c5e4140dce5fb5ec1b39a3c     1   \n",
      "\n",
      "      Avg min between sent tnx  Avg min between received tnx  \\\n",
      "9836                  12635.10                        631.39   \n",
      "9837                      0.00                          0.00   \n",
      "9838                   2499.44                       2189.29   \n",
      "9839                      0.00                          0.00   \n",
      "9840                  37242.70                        149.56   \n",
      "\n",
      "      Time Diff between first and last (Mins)  Sent tnx  Received Tnx  \\\n",
      "9836                                 58748.48         4            13   \n",
      "9837                                     0.00         0             0   \n",
      "9838                                261601.88        67            43   \n",
      "9839                                     0.00         0             1   \n",
      "9840                                670817.33        18             3   \n",
      "\n",
      "      Number of Created Contracts  ...   ERC20 min val sent  \\\n",
      "9836                            0  ...                  0.0   \n",
      "9837                            0  ...                  0.0   \n",
      "9838                            0  ...                  0.0   \n",
      "9839                            0  ...                  NaN   \n",
      "9840                            0  ...                  0.0   \n",
      "\n",
      "       ERC20 max val sent   ERC20 avg val sent   ERC20 min val sent contract  \\\n",
      "9836                  0.0                  0.0                           0.0   \n",
      "9837                  0.0                  0.0                           0.0   \n",
      "9838                  0.0                  0.0                           0.0   \n",
      "9839                  NaN                  NaN                           NaN   \n",
      "9840                  0.0                  0.0                           0.0   \n",
      "\n",
      "       ERC20 max val sent contract   ERC20 avg val sent contract  \\\n",
      "9836                           0.0                           0.0   \n",
      "9837                           0.0                           0.0   \n",
      "9838                           0.0                           0.0   \n",
      "9839                           NaN                           NaN   \n",
      "9840                           0.0                           0.0   \n",
      "\n",
      "       ERC20 uniq sent token name   ERC20 uniq rec token name  \\\n",
      "9836                          0.0                         2.0   \n",
      "9837                          0.0                         1.0   \n",
      "9838                          0.0                         5.0   \n",
      "9839                          NaN                         NaN   \n",
      "9840                          0.0                        42.0   \n",
      "\n",
      "       ERC20 most sent token type         ERC20_most_rec_token_type  \n",
      "9836                                                     GSENetwork  \n",
      "9837                                          Blockwell say NOTSAFU  \n",
      "9838                               Free BOB Tokens - BobsRepair.com  \n",
      "9839                          NaN                               NaN  \n",
      "9840                                                     INS Promo1  \n",
      "\n",
      "[5 rows x 51 columns] \n",
      "\n"
     ]
    }
   ],
   "source": [
    "df_eth_fraud = pd.read_csv(\"../data/eth_fraud_transaction_dataset.csv\")\n",
    "\n",
    "cols_heads_tails(df_eth_fraud)"
   ]
  },
  {
   "cell_type": "markdown",
   "id": "05054203-a16f-4a50-b66e-4c10d708cf60",
   "metadata": {},
   "source": [
    "A lot of information on the transactions. Date would either have to be derived from the transactions to/from addresses or contract id's. "
   ]
  },
  {
   "cell_type": "code",
   "execution_count": 88,
   "id": "5da7b542-53d9-447c-a9a4-286376cb2d37",
   "metadata": {},
   "outputs": [
    {
     "data": {
      "text/plain": [
       "Unnamed: 0                                              9841\n",
       "Index                                                   9841\n",
       "Address                                                 9841\n",
       "FLAG                                                    9841\n",
       "Avg min between sent tnx                                9841\n",
       "Avg min between received tnx                            9841\n",
       "Time Diff between first and last (Mins)                 9841\n",
       "Sent tnx                                                9841\n",
       "Received Tnx                                            9841\n",
       "Number of Created Contracts                             9841\n",
       "Unique Received From Addresses                          9841\n",
       "Unique Sent To Addresses                                9841\n",
       "min value received                                      9841\n",
       "max value received                                      9841\n",
       "avg val received                                        9841\n",
       "min val sent                                            9841\n",
       "max val sent                                            9841\n",
       "avg val sent                                            9841\n",
       "min value sent to contract                              9841\n",
       "max val sent to contract                                9841\n",
       "avg value sent to contract                              9841\n",
       "total transactions (including tnx to create contract    9841\n",
       "total Ether sent                                        9841\n",
       "total ether received                                    9841\n",
       "total ether sent contracts                              9841\n",
       "total ether balance                                     9841\n",
       " Total ERC20 tnxs                                       9012\n",
       " ERC20 total Ether received                             9012\n",
       " ERC20 total ether sent                                 9012\n",
       " ERC20 total Ether sent contract                        9012\n",
       " ERC20 uniq sent addr                                   9012\n",
       " ERC20 uniq rec addr                                    9012\n",
       " ERC20 uniq sent addr.1                                 9012\n",
       " ERC20 uniq rec contract addr                           9012\n",
       " ERC20 avg time between sent tnx                        9012\n",
       " ERC20 avg time between rec tnx                         9012\n",
       " ERC20 avg time between rec 2 tnx                       9012\n",
       " ERC20 avg time between contract tnx                    9012\n",
       " ERC20 min val rec                                      9012\n",
       " ERC20 max val rec                                      9012\n",
       " ERC20 avg val rec                                      9012\n",
       " ERC20 min val sent                                     9012\n",
       " ERC20 max val sent                                     9012\n",
       " ERC20 avg val sent                                     9012\n",
       " ERC20 min val sent contract                            9012\n",
       " ERC20 max val sent contract                            9012\n",
       " ERC20 avg val sent contract                            9012\n",
       " ERC20 uniq sent token name                             9012\n",
       " ERC20 uniq rec token name                              9012\n",
       " ERC20 most sent token type                             7144\n",
       " ERC20_most_rec_token_type                              8970\n",
       "dtype: int64"
      ]
     },
     "execution_count": 88,
     "metadata": {},
     "output_type": "execute_result"
    }
   ],
   "source": [
    "df_eth_fraud.count()"
   ]
  }
 ],
 "metadata": {
  "kernelspec": {
   "display_name": "Python 3 (ipykernel)",
   "language": "python",
   "name": "python3"
  },
  "language_info": {
   "codemirror_mode": {
    "name": "ipython",
    "version": 3
   },
   "file_extension": ".py",
   "mimetype": "text/x-python",
   "name": "python",
   "nbconvert_exporter": "python",
   "pygments_lexer": "ipython3",
   "version": "3.12.4"
  }
 },
 "nbformat": 4,
 "nbformat_minor": 5
}
