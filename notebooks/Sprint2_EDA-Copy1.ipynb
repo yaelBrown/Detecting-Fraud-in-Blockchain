{
 "cells": [
  {
   "cell_type": "markdown",
   "id": "845b9410-151e-4b3e-abeb-27914c48d10c",
   "metadata": {},
   "source": [
    "# Capstone: Sprint 2: Extended EDA\n",
    "Yael Brown \\\n",
    "November 14, 2024 "
   ]
  },
  {
   "cell_type": "code",
   "execution_count": 158,
   "id": "8996b6a8-da4c-4a38-8f93-704115e09f18",
   "metadata": {},
   "outputs": [],
   "source": [
    "# Load libraries\n",
    "import numpy as np\n",
    "import pandas as pd\n",
    "import warnings\n",
    "import time\n",
    "import matplotlib.pyplot as plt\n",
    "\n",
    "from sklearn.linear_model import LogisticRegression\n",
    "from sklearn.model_selection import train_test_split\n",
    "from sklearn.preprocessing import LabelEncoder, StandardScaler\n",
    "from sklearn.metrics import confusion_matrix, ConfusionMatrixDisplay, accuracy_score\n",
    "\n",
    "from datetime import datetime"
   ]
  },
  {
   "cell_type": "code",
   "execution_count": 3,
   "id": "8822eb90-c21b-457a-b4b8-e72154c7980e",
   "metadata": {},
   "outputs": [],
   "source": [
    "# Suppress warnings in the notebook\n",
    "warnings.filterwarnings(\"ignore\")"
   ]
  },
  {
   "cell_type": "markdown",
   "id": "4a0d4b52",
   "metadata": {},
   "source": [
    "## Data Preparation\n",
    "\n",
    "In this part we are going to collect our processed data sources and then verify them before actually doing the EDA. "
   ]
  },
  {
   "cell_type": "code",
   "execution_count": 5,
   "id": "1933f3d1-fce4-47f7-94a1-be05796d656f",
   "metadata": {},
   "outputs": [],
   "source": [
    "# Load Libraries \n",
    "heist_df = pd.read_csv('../data/btc_HeistData.csv')"
   ]
  },
  {
   "cell_type": "code",
   "execution_count": 6,
   "id": "4e7f9752-2c28-474d-ba37-7258da36c838",
   "metadata": {},
   "outputs": [
    {
     "data": {
      "text/plain": [
       "(2916697, 10)"
      ]
     },
     "execution_count": 6,
     "metadata": {},
     "output_type": "execute_result"
    }
   ],
   "source": [
    "heist_df.shape"
   ]
  },
  {
   "cell_type": "code",
   "execution_count": 7,
   "id": "6044cd7b-28d4-47f1-8235-74238afa3cd4",
   "metadata": {},
   "outputs": [],
   "source": [
    "# Reduce size for development\n",
    "size = 50000\n",
    "\n",
    "heist_df = heist_df.iloc[:size]"
   ]
  },
  {
   "cell_type": "code",
   "execution_count": 8,
   "id": "8df785a6-df08-4bf6-991a-eb22a4eceac3",
   "metadata": {},
   "outputs": [
    {
     "data": {
      "text/plain": [
       "Index(['address', 'year', 'day', 'length', 'weight', 'count', 'looped',\n",
       "       'neighbors', 'income', 'label'],\n",
       "      dtype='object')"
      ]
     },
     "execution_count": 8,
     "metadata": {},
     "output_type": "execute_result"
    }
   ],
   "source": [
    "heist_df.columns"
   ]
  },
  {
   "cell_type": "code",
   "execution_count": 9,
   "id": "71948203-3888-4946-a57f-33f77d0ac2b5",
   "metadata": {},
   "outputs": [
    {
     "data": {
      "text/html": [
       "<div>\n",
       "<style scoped>\n",
       "    .dataframe tbody tr th:only-of-type {\n",
       "        vertical-align: middle;\n",
       "    }\n",
       "\n",
       "    .dataframe tbody tr th {\n",
       "        vertical-align: top;\n",
       "    }\n",
       "\n",
       "    .dataframe thead th {\n",
       "        text-align: right;\n",
       "    }\n",
       "</style>\n",
       "<table border=\"1\" class=\"dataframe\">\n",
       "  <thead>\n",
       "    <tr style=\"text-align: right;\">\n",
       "      <th></th>\n",
       "      <th>address</th>\n",
       "      <th>year</th>\n",
       "      <th>day</th>\n",
       "      <th>length</th>\n",
       "      <th>weight</th>\n",
       "      <th>count</th>\n",
       "      <th>looped</th>\n",
       "      <th>neighbors</th>\n",
       "      <th>income</th>\n",
       "      <th>label</th>\n",
       "    </tr>\n",
       "  </thead>\n",
       "  <tbody>\n",
       "    <tr>\n",
       "      <th>0</th>\n",
       "      <td>111K8kZAEnJg245r2cM6y9zgJGHZtJPy6</td>\n",
       "      <td>2017</td>\n",
       "      <td>11</td>\n",
       "      <td>18</td>\n",
       "      <td>0.008333</td>\n",
       "      <td>1</td>\n",
       "      <td>0</td>\n",
       "      <td>2</td>\n",
       "      <td>100050000.0</td>\n",
       "      <td>princetonCerber</td>\n",
       "    </tr>\n",
       "    <tr>\n",
       "      <th>1</th>\n",
       "      <td>1123pJv8jzeFQaCV4w644pzQJzVWay2zcA</td>\n",
       "      <td>2016</td>\n",
       "      <td>132</td>\n",
       "      <td>44</td>\n",
       "      <td>0.000244</td>\n",
       "      <td>1</td>\n",
       "      <td>0</td>\n",
       "      <td>1</td>\n",
       "      <td>100000000.0</td>\n",
       "      <td>princetonLocky</td>\n",
       "    </tr>\n",
       "    <tr>\n",
       "      <th>2</th>\n",
       "      <td>112536im7hy6wtKbpH1qYDWtTyMRAcA2p7</td>\n",
       "      <td>2016</td>\n",
       "      <td>246</td>\n",
       "      <td>0</td>\n",
       "      <td>1.000000</td>\n",
       "      <td>1</td>\n",
       "      <td>0</td>\n",
       "      <td>2</td>\n",
       "      <td>200000000.0</td>\n",
       "      <td>princetonCerber</td>\n",
       "    </tr>\n",
       "    <tr>\n",
       "      <th>3</th>\n",
       "      <td>1126eDRw2wqSkWosjTCre8cjjQW8sSeWH7</td>\n",
       "      <td>2016</td>\n",
       "      <td>322</td>\n",
       "      <td>72</td>\n",
       "      <td>0.003906</td>\n",
       "      <td>1</td>\n",
       "      <td>0</td>\n",
       "      <td>2</td>\n",
       "      <td>71200000.0</td>\n",
       "      <td>princetonCerber</td>\n",
       "    </tr>\n",
       "    <tr>\n",
       "      <th>4</th>\n",
       "      <td>1129TSjKtx65E35GiUo4AYVeyo48twbrGX</td>\n",
       "      <td>2016</td>\n",
       "      <td>238</td>\n",
       "      <td>144</td>\n",
       "      <td>0.072848</td>\n",
       "      <td>456</td>\n",
       "      <td>0</td>\n",
       "      <td>1</td>\n",
       "      <td>200000000.0</td>\n",
       "      <td>princetonLocky</td>\n",
       "    </tr>\n",
       "  </tbody>\n",
       "</table>\n",
       "</div>"
      ],
      "text/plain": [
       "                              address  year  day  length    weight  count  \\\n",
       "0   111K8kZAEnJg245r2cM6y9zgJGHZtJPy6  2017   11      18  0.008333      1   \n",
       "1  1123pJv8jzeFQaCV4w644pzQJzVWay2zcA  2016  132      44  0.000244      1   \n",
       "2  112536im7hy6wtKbpH1qYDWtTyMRAcA2p7  2016  246       0  1.000000      1   \n",
       "3  1126eDRw2wqSkWosjTCre8cjjQW8sSeWH7  2016  322      72  0.003906      1   \n",
       "4  1129TSjKtx65E35GiUo4AYVeyo48twbrGX  2016  238     144  0.072848    456   \n",
       "\n",
       "   looped  neighbors       income            label  \n",
       "0       0          2  100050000.0  princetonCerber  \n",
       "1       0          1  100000000.0   princetonLocky  \n",
       "2       0          2  200000000.0  princetonCerber  \n",
       "3       0          2   71200000.0  princetonCerber  \n",
       "4       0          1  200000000.0   princetonLocky  "
      ]
     },
     "execution_count": 9,
     "metadata": {},
     "output_type": "execute_result"
    }
   ],
   "source": [
    "heist_df.head()"
   ]
  },
  {
   "cell_type": "code",
   "execution_count": 10,
   "id": "eacb5a3b-4870-4677-81ca-db1188389bbf",
   "metadata": {},
   "outputs": [
    {
     "data": {
      "text/html": [
       "<div>\n",
       "<style scoped>\n",
       "    .dataframe tbody tr th:only-of-type {\n",
       "        vertical-align: middle;\n",
       "    }\n",
       "\n",
       "    .dataframe tbody tr th {\n",
       "        vertical-align: top;\n",
       "    }\n",
       "\n",
       "    .dataframe thead th {\n",
       "        text-align: right;\n",
       "    }\n",
       "</style>\n",
       "<table border=\"1\" class=\"dataframe\">\n",
       "  <thead>\n",
       "    <tr style=\"text-align: right;\">\n",
       "      <th></th>\n",
       "      <th>address</th>\n",
       "      <th>year</th>\n",
       "      <th>day</th>\n",
       "      <th>income</th>\n",
       "    </tr>\n",
       "  </thead>\n",
       "  <tbody>\n",
       "    <tr>\n",
       "      <th>0</th>\n",
       "      <td>111K8kZAEnJg245r2cM6y9zgJGHZtJPy6</td>\n",
       "      <td>2017</td>\n",
       "      <td>11</td>\n",
       "      <td>100050000.0</td>\n",
       "    </tr>\n",
       "    <tr>\n",
       "      <th>1</th>\n",
       "      <td>1123pJv8jzeFQaCV4w644pzQJzVWay2zcA</td>\n",
       "      <td>2016</td>\n",
       "      <td>132</td>\n",
       "      <td>100000000.0</td>\n",
       "    </tr>\n",
       "    <tr>\n",
       "      <th>2</th>\n",
       "      <td>112536im7hy6wtKbpH1qYDWtTyMRAcA2p7</td>\n",
       "      <td>2016</td>\n",
       "      <td>246</td>\n",
       "      <td>200000000.0</td>\n",
       "    </tr>\n",
       "    <tr>\n",
       "      <th>3</th>\n",
       "      <td>1126eDRw2wqSkWosjTCre8cjjQW8sSeWH7</td>\n",
       "      <td>2016</td>\n",
       "      <td>322</td>\n",
       "      <td>71200000.0</td>\n",
       "    </tr>\n",
       "    <tr>\n",
       "      <th>4</th>\n",
       "      <td>1129TSjKtx65E35GiUo4AYVeyo48twbrGX</td>\n",
       "      <td>2016</td>\n",
       "      <td>238</td>\n",
       "      <td>200000000.0</td>\n",
       "    </tr>\n",
       "  </tbody>\n",
       "</table>\n",
       "</div>"
      ],
      "text/plain": [
       "                              address  year  day       income\n",
       "0   111K8kZAEnJg245r2cM6y9zgJGHZtJPy6  2017   11  100050000.0\n",
       "1  1123pJv8jzeFQaCV4w644pzQJzVWay2zcA  2016  132  100000000.0\n",
       "2  112536im7hy6wtKbpH1qYDWtTyMRAcA2p7  2016  246  200000000.0\n",
       "3  1126eDRw2wqSkWosjTCre8cjjQW8sSeWH7  2016  322   71200000.0\n",
       "4  1129TSjKtx65E35GiUo4AYVeyo48twbrGX  2016  238  200000000.0"
      ]
     },
     "execution_count": 10,
     "metadata": {},
     "output_type": "execute_result"
    }
   ],
   "source": [
    "# drop label, neighbors, looped, count, weight, length\n",
    "heist_df.drop(columns=['label', 'neighbors', 'looped', 'count', 'weight', 'length'], axis=1, inplace=True)\n",
    "\n",
    "heist_df.head()"
   ]
  },
  {
   "cell_type": "code",
   "execution_count": null,
   "id": "e7c7be3f-3181-4c74-a622-c41c24f70cf1",
   "metadata": {},
   "outputs": [],
   "source": [
    "# Convert day to month and day\n",
    "df = heist_df # This made it easier to develop this process and I can switch from temp dataframe to heist_df and not worry about messing up the code\n",
    "\n",
    "# Rename column\n",
    "df.rename(columns={'day': 'day_of_year'}, inplace=True)\n",
    "\n",
    "# Verify rename\n",
    "print(df.info())\n",
    "\n",
    "# Instantiate day and month columns that we need\n",
    "df['day'] = 0\n",
    "df['month'] = 0\n",
    "\n",
    "# Add month and day (calculate it from day_of_year\n",
    "# (I couldn't get df.apply() to work and reassign both columns at once) \n",
    "length = len(df)\n",
    "\n",
    "cnt = 0\n",
    "for r in range(0, length):\n",
    "    print(cnt)\n",
    "    row = df.iloc[r]\n",
    "    date = pd.to_datetime(row['day_of_year'], format='%j', errors='coerce') + pd.DateOffset(years=row['year'] - 1970)\n",
    "    row['month'] = date.month\n",
    "    row['day'] = date.day\n",
    "    df.iloc[r] = row\n",
    "    cnt += 1\n",
    "\n",
    "# Drop day_of_year column\n",
    "df.drop(columns=['day_of_year'], axis=1, inplace=True)\n",
    "\n",
    "# Assign back to heist_df\n",
    "heist_df = df\n",
    "\n",
    "# Clean up memory\n",
    "del df"
   ]
  },
  {
   "cell_type": "code",
   "execution_count": 12,
   "id": "9d3eb2a1-5bb2-4036-8b73-a20d3f7799e8",
   "metadata": {},
   "outputs": [
    {
     "data": {
      "text/html": [
       "<div>\n",
       "<style scoped>\n",
       "    .dataframe tbody tr th:only-of-type {\n",
       "        vertical-align: middle;\n",
       "    }\n",
       "\n",
       "    .dataframe tbody tr th {\n",
       "        vertical-align: top;\n",
       "    }\n",
       "\n",
       "    .dataframe thead th {\n",
       "        text-align: right;\n",
       "    }\n",
       "</style>\n",
       "<table border=\"1\" class=\"dataframe\">\n",
       "  <thead>\n",
       "    <tr style=\"text-align: right;\">\n",
       "      <th></th>\n",
       "      <th>address</th>\n",
       "      <th>year</th>\n",
       "      <th>income</th>\n",
       "      <th>day</th>\n",
       "      <th>month</th>\n",
       "    </tr>\n",
       "  </thead>\n",
       "  <tbody>\n",
       "    <tr>\n",
       "      <th>0</th>\n",
       "      <td>111K8kZAEnJg245r2cM6y9zgJGHZtJPy6</td>\n",
       "      <td>2017</td>\n",
       "      <td>100050000.0</td>\n",
       "      <td>11</td>\n",
       "      <td>1</td>\n",
       "    </tr>\n",
       "    <tr>\n",
       "      <th>1</th>\n",
       "      <td>1123pJv8jzeFQaCV4w644pzQJzVWay2zcA</td>\n",
       "      <td>2016</td>\n",
       "      <td>100000000.0</td>\n",
       "      <td>12</td>\n",
       "      <td>5</td>\n",
       "    </tr>\n",
       "    <tr>\n",
       "      <th>2</th>\n",
       "      <td>112536im7hy6wtKbpH1qYDWtTyMRAcA2p7</td>\n",
       "      <td>2016</td>\n",
       "      <td>200000000.0</td>\n",
       "      <td>3</td>\n",
       "      <td>9</td>\n",
       "    </tr>\n",
       "    <tr>\n",
       "      <th>3</th>\n",
       "      <td>1126eDRw2wqSkWosjTCre8cjjQW8sSeWH7</td>\n",
       "      <td>2016</td>\n",
       "      <td>71200000.0</td>\n",
       "      <td>18</td>\n",
       "      <td>11</td>\n",
       "    </tr>\n",
       "    <tr>\n",
       "      <th>4</th>\n",
       "      <td>1129TSjKtx65E35GiUo4AYVeyo48twbrGX</td>\n",
       "      <td>2016</td>\n",
       "      <td>200000000.0</td>\n",
       "      <td>26</td>\n",
       "      <td>8</td>\n",
       "    </tr>\n",
       "  </tbody>\n",
       "</table>\n",
       "</div>"
      ],
      "text/plain": [
       "                              address  year       income  day  month\n",
       "0   111K8kZAEnJg245r2cM6y9zgJGHZtJPy6  2017  100050000.0   11      1\n",
       "1  1123pJv8jzeFQaCV4w644pzQJzVWay2zcA  2016  100000000.0   12      5\n",
       "2  112536im7hy6wtKbpH1qYDWtTyMRAcA2p7  2016  200000000.0    3      9\n",
       "3  1126eDRw2wqSkWosjTCre8cjjQW8sSeWH7  2016   71200000.0   18     11\n",
       "4  1129TSjKtx65E35GiUo4AYVeyo48twbrGX  2016  200000000.0   26      8"
      ]
     },
     "execution_count": 12,
     "metadata": {},
     "output_type": "execute_result"
    }
   ],
   "source": [
    "# Verify month and day are present. \n",
    "heist_df.head()"
   ]
  },
  {
   "cell_type": "markdown",
   "id": "e8ad0f8f-239b-4770-88ae-d100789fbfc4",
   "metadata": {},
   "source": [
    "### Import cleaned (and sampled dataset) btc transaction dataset\n",
    "Here we have to import the cleaned dataset to match the sender or reciever addresses with the known heist addresses in our dataset and mark them as possible fraudulent transactions. The problem with this is that we are using a extremely small proportion of the transaction dataset and that may not be enough to have flag as possible fraud and train our model. \n",
    "\n",
    "The model will be trained on (target variables) address and the amount that is transferred. "
   ]
  },
  {
   "cell_type": "code",
   "execution_count": 14,
   "id": "809f86de-16eb-464e-9787-a59e7637a72c",
   "metadata": {},
   "outputs": [
    {
     "data": {
      "text/html": [
       "<div>\n",
       "<style scoped>\n",
       "    .dataframe tbody tr th:only-of-type {\n",
       "        vertical-align: middle;\n",
       "    }\n",
       "\n",
       "    .dataframe tbody tr th {\n",
       "        vertical-align: top;\n",
       "    }\n",
       "\n",
       "    .dataframe thead th {\n",
       "        text-align: right;\n",
       "    }\n",
       "</style>\n",
       "<table border=\"1\" class=\"dataframe\">\n",
       "  <thead>\n",
       "    <tr style=\"text-align: right;\">\n",
       "      <th></th>\n",
       "      <th>timestamp</th>\n",
       "      <th>source_address</th>\n",
       "      <th>destination_address</th>\n",
       "      <th>satoshi</th>\n",
       "      <th>year</th>\n",
       "      <th>month</th>\n",
       "      <th>day</th>\n",
       "    </tr>\n",
       "  </thead>\n",
       "  <tbody>\n",
       "    <tr>\n",
       "      <th>0</th>\n",
       "      <td>1456791197</td>\n",
       "      <td>16ZZav1Cq5STgj7X5bvP9UgVYJkRk2RDdC</td>\n",
       "      <td>1KgqD2G2NSZYgHk5m7AW3wxupDj3H76Q8e</td>\n",
       "      <td>156555.0</td>\n",
       "      <td>2016</td>\n",
       "      <td>3</td>\n",
       "      <td>1</td>\n",
       "    </tr>\n",
       "    <tr>\n",
       "      <th>1</th>\n",
       "      <td>1456791197</td>\n",
       "      <td>16ZZav1Cq5STgj7X5bvP9UgVYJkRk2RDdC</td>\n",
       "      <td>1NZF5BEn5iCe655fj4vd5UMaXXfVvFH5aJ</td>\n",
       "      <td>26400000.0</td>\n",
       "      <td>2016</td>\n",
       "      <td>3</td>\n",
       "      <td>1</td>\n",
       "    </tr>\n",
       "    <tr>\n",
       "      <th>2</th>\n",
       "      <td>1456791197</td>\n",
       "      <td>1NcktapNVSfbH9FZ9mWZcgMaaokNj9Goyo</td>\n",
       "      <td>1NXmUs99Rn8FzyYMK5bmBAPL81VzmPhH9d</td>\n",
       "      <td>245057610.0</td>\n",
       "      <td>2016</td>\n",
       "      <td>3</td>\n",
       "      <td>1</td>\n",
       "    </tr>\n",
       "    <tr>\n",
       "      <th>3</th>\n",
       "      <td>1456791197</td>\n",
       "      <td>1NcktapNVSfbH9FZ9mWZcgMaaokNj9Goyo</td>\n",
       "      <td>1NcktapNVSfbH9FZ9mWZcgMaaokNj9Goyo</td>\n",
       "      <td>48151.0</td>\n",
       "      <td>2016</td>\n",
       "      <td>3</td>\n",
       "      <td>1</td>\n",
       "    </tr>\n",
       "    <tr>\n",
       "      <th>4</th>\n",
       "      <td>1456791197</td>\n",
       "      <td>1PaQM5ngUGzZYS3e9epbY7BiZvrukDoJQB</td>\n",
       "      <td>14jvp9Sj4peh28CKxifLob2jsZAcYPfZ74</td>\n",
       "      <td>20860000.0</td>\n",
       "      <td>2016</td>\n",
       "      <td>3</td>\n",
       "      <td>1</td>\n",
       "    </tr>\n",
       "  </tbody>\n",
       "</table>\n",
       "</div>"
      ],
      "text/plain": [
       "    timestamp                      source_address  \\\n",
       "0  1456791197  16ZZav1Cq5STgj7X5bvP9UgVYJkRk2RDdC   \n",
       "1  1456791197  16ZZav1Cq5STgj7X5bvP9UgVYJkRk2RDdC   \n",
       "2  1456791197  1NcktapNVSfbH9FZ9mWZcgMaaokNj9Goyo   \n",
       "3  1456791197  1NcktapNVSfbH9FZ9mWZcgMaaokNj9Goyo   \n",
       "4  1456791197  1PaQM5ngUGzZYS3e9epbY7BiZvrukDoJQB   \n",
       "\n",
       "                  destination_address      satoshi  year  month  day  \n",
       "0  1KgqD2G2NSZYgHk5m7AW3wxupDj3H76Q8e     156555.0  2016      3    1  \n",
       "1  1NZF5BEn5iCe655fj4vd5UMaXXfVvFH5aJ   26400000.0  2016      3    1  \n",
       "2  1NXmUs99Rn8FzyYMK5bmBAPL81VzmPhH9d  245057610.0  2016      3    1  \n",
       "3  1NcktapNVSfbH9FZ9mWZcgMaaokNj9Goyo      48151.0  2016      3    1  \n",
       "4  14jvp9Sj4peh28CKxifLob2jsZAcYPfZ74   20860000.0  2016      3    1  "
      ]
     },
     "execution_count": 14,
     "metadata": {},
     "output_type": "execute_result"
    }
   ],
   "source": [
    "btc_processed_df = pd.read_csv(\"../data/btc_trans_data/data_raw/btc_data_cleaned.csv\")\n",
    "\n",
    "btc_processed_df.head()"
   ]
  },
  {
   "cell_type": "code",
   "execution_count": 15,
   "id": "63aeab16-6a94-4b1e-b59f-2ab032be2436",
   "metadata": {},
   "outputs": [
    {
     "data": {
      "text/html": [
       "<div>\n",
       "<style scoped>\n",
       "    .dataframe tbody tr th:only-of-type {\n",
       "        vertical-align: middle;\n",
       "    }\n",
       "\n",
       "    .dataframe tbody tr th {\n",
       "        vertical-align: top;\n",
       "    }\n",
       "\n",
       "    .dataframe thead th {\n",
       "        text-align: right;\n",
       "    }\n",
       "</style>\n",
       "<table border=\"1\" class=\"dataframe\">\n",
       "  <thead>\n",
       "    <tr style=\"text-align: right;\">\n",
       "      <th></th>\n",
       "      <th>timestamp</th>\n",
       "      <th>source_address</th>\n",
       "      <th>destination_address</th>\n",
       "      <th>satoshi</th>\n",
       "      <th>year</th>\n",
       "      <th>month</th>\n",
       "      <th>day</th>\n",
       "    </tr>\n",
       "  </thead>\n",
       "  <tbody>\n",
       "    <tr>\n",
       "      <th>0</th>\n",
       "      <td>1456791197</td>\n",
       "      <td>16ZZav1Cq5STgj7X5bvP9UgVYJkRk2RDdC</td>\n",
       "      <td>1KgqD2G2NSZYgHk5m7AW3wxupDj3H76Q8e</td>\n",
       "      <td>156555.0</td>\n",
       "      <td>2016</td>\n",
       "      <td>3</td>\n",
       "      <td>1</td>\n",
       "    </tr>\n",
       "    <tr>\n",
       "      <th>1</th>\n",
       "      <td>1456791197</td>\n",
       "      <td>16ZZav1Cq5STgj7X5bvP9UgVYJkRk2RDdC</td>\n",
       "      <td>1NZF5BEn5iCe655fj4vd5UMaXXfVvFH5aJ</td>\n",
       "      <td>26400000.0</td>\n",
       "      <td>2016</td>\n",
       "      <td>3</td>\n",
       "      <td>1</td>\n",
       "    </tr>\n",
       "    <tr>\n",
       "      <th>2</th>\n",
       "      <td>1456791197</td>\n",
       "      <td>1NcktapNVSfbH9FZ9mWZcgMaaokNj9Goyo</td>\n",
       "      <td>1NXmUs99Rn8FzyYMK5bmBAPL81VzmPhH9d</td>\n",
       "      <td>245057610.0</td>\n",
       "      <td>2016</td>\n",
       "      <td>3</td>\n",
       "      <td>1</td>\n",
       "    </tr>\n",
       "    <tr>\n",
       "      <th>3</th>\n",
       "      <td>1456791197</td>\n",
       "      <td>1NcktapNVSfbH9FZ9mWZcgMaaokNj9Goyo</td>\n",
       "      <td>1NcktapNVSfbH9FZ9mWZcgMaaokNj9Goyo</td>\n",
       "      <td>48151.0</td>\n",
       "      <td>2016</td>\n",
       "      <td>3</td>\n",
       "      <td>1</td>\n",
       "    </tr>\n",
       "    <tr>\n",
       "      <th>4</th>\n",
       "      <td>1456791197</td>\n",
       "      <td>1PaQM5ngUGzZYS3e9epbY7BiZvrukDoJQB</td>\n",
       "      <td>14jvp9Sj4peh28CKxifLob2jsZAcYPfZ74</td>\n",
       "      <td>20860000.0</td>\n",
       "      <td>2016</td>\n",
       "      <td>3</td>\n",
       "      <td>1</td>\n",
       "    </tr>\n",
       "  </tbody>\n",
       "</table>\n",
       "</div>"
      ],
      "text/plain": [
       "    timestamp                      source_address  \\\n",
       "0  1456791197  16ZZav1Cq5STgj7X5bvP9UgVYJkRk2RDdC   \n",
       "1  1456791197  16ZZav1Cq5STgj7X5bvP9UgVYJkRk2RDdC   \n",
       "2  1456791197  1NcktapNVSfbH9FZ9mWZcgMaaokNj9Goyo   \n",
       "3  1456791197  1NcktapNVSfbH9FZ9mWZcgMaaokNj9Goyo   \n",
       "4  1456791197  1PaQM5ngUGzZYS3e9epbY7BiZvrukDoJQB   \n",
       "\n",
       "                  destination_address      satoshi  year  month  day  \n",
       "0  1KgqD2G2NSZYgHk5m7AW3wxupDj3H76Q8e     156555.0  2016      3    1  \n",
       "1  1NZF5BEn5iCe655fj4vd5UMaXXfVvFH5aJ   26400000.0  2016      3    1  \n",
       "2  1NXmUs99Rn8FzyYMK5bmBAPL81VzmPhH9d  245057610.0  2016      3    1  \n",
       "3  1NcktapNVSfbH9FZ9mWZcgMaaokNj9Goyo      48151.0  2016      3    1  \n",
       "4  14jvp9Sj4peh28CKxifLob2jsZAcYPfZ74   20860000.0  2016      3    1  "
      ]
     },
     "execution_count": 15,
     "metadata": {},
     "output_type": "execute_result"
    }
   ],
   "source": [
    "# Convert year, month, day to intenters\n",
    "columns = [\"year\", \"month\", \"day\"]\n",
    "\n",
    "btc_processed_df[columns] = btc_processed_df[columns].astype(int)\n",
    "\n",
    "btc_processed_df.head()"
   ]
  },
  {
   "cell_type": "code",
   "execution_count": 16,
   "id": "ae37e38a-2530-4d2e-837e-2489c242e61a",
   "metadata": {},
   "outputs": [
    {
     "name": "stdout",
     "output_type": "stream",
     "text": [
      "<class 'pandas.core.frame.DataFrame'>\n",
      "RangeIndex: 80120 entries, 0 to 80119\n",
      "Data columns (total 7 columns):\n",
      " #   Column               Non-Null Count  Dtype  \n",
      "---  ------               --------------  -----  \n",
      " 0   timestamp            80120 non-null  int64  \n",
      " 1   source_address       80120 non-null  object \n",
      " 2   destination_address  80120 non-null  object \n",
      " 3   satoshi              80120 non-null  float64\n",
      " 4   year                 80120 non-null  int32  \n",
      " 5   month                80120 non-null  int32  \n",
      " 6   day                  80120 non-null  int32  \n",
      "dtypes: float64(1), int32(3), int64(1), object(2)\n",
      "memory usage: 3.4+ MB\n"
     ]
    }
   ],
   "source": [
    "btc_processed_df.info()"
   ]
  },
  {
   "cell_type": "code",
   "execution_count": 17,
   "id": "65adeb81-d336-41c2-b2b3-f7ac7f85d2e9",
   "metadata": {},
   "outputs": [
    {
     "data": {
      "text/plain": [
       "0    0\n",
       "1    0\n",
       "2    0\n",
       "3    0\n",
       "4    0\n",
       "Name: isPossibleFraud, dtype: int64"
      ]
     },
     "execution_count": 17,
     "metadata": {},
     "output_type": "execute_result"
    }
   ],
   "source": [
    "# Create possible fraud col\n",
    "btc_processed_df[\"isPossibleFraud\"] = 0\n",
    "\n",
    "btc_processed_df[\"isPossibleFraud\"].head()"
   ]
  },
  {
   "cell_type": "code",
   "execution_count": 18,
   "id": "4e0a263f-c475-4dd2-9649-05c42cec021b",
   "metadata": {},
   "outputs": [
    {
     "data": {
      "text/plain": [
       "year\n",
       "2016    80120\n",
       "Name: count, dtype: int64"
      ]
     },
     "execution_count": 18,
     "metadata": {},
     "output_type": "execute_result"
    }
   ],
   "source": [
    "btc_processed_df['year'].value_counts()"
   ]
  },
  {
   "cell_type": "code",
   "execution_count": 19,
   "id": "045c8bb0-8ef1-458e-986c-96242cb00314",
   "metadata": {},
   "outputs": [
    {
     "data": {
      "text/plain": [
       "combined\n",
       "False    80120\n",
       "Name: count, dtype: int64"
      ]
     },
     "execution_count": 19,
     "metadata": {},
     "output_type": "execute_result"
    }
   ],
   "source": [
    "# Check for fraudulent rows\n",
    "btc_processed_df['combined'] = btc_processed_df['source_address'] + '_' + btc_processed_df['destination_address']\n",
    "\n",
    "matched = btc_processed_df['combined'].isin(heist_df['address'])\n",
    "\n",
    "matched.value_counts()"
   ]
  },
  {
   "cell_type": "code",
   "execution_count": 20,
   "id": "4ffddb79-2e86-44d4-b731-0e193469f5b2",
   "metadata": {},
   "outputs": [
    {
     "data": {
      "text/plain": [
       "0        16ZZav1Cq5STgj7X5bvP9UgVYJkRk2RDdC_1KgqD2G2NSZ...\n",
       "1        16ZZav1Cq5STgj7X5bvP9UgVYJkRk2RDdC_1NZF5BEn5iC...\n",
       "2        1NcktapNVSfbH9FZ9mWZcgMaaokNj9Goyo_1NXmUs99Rn8...\n",
       "3        1NcktapNVSfbH9FZ9mWZcgMaaokNj9Goyo_1NcktapNVSf...\n",
       "4        1PaQM5ngUGzZYS3e9epbY7BiZvrukDoJQB_14jvp9Sj4pe...\n",
       "                               ...                        \n",
       "80115    1MK7rfErwuWf12vuLxWBkn8ed9PXaeTF7W_18cfossjDMS...\n",
       "80116    1N53mh1gBy9RUkqXRU85G3kU6UXmCDTSju_145NwE6sVnM...\n",
       "80117    1FMYrwgYhCA71C555WWiQyi18tMPQfXGab_18cfossjDMS...\n",
       "80118    13aPPSgHfd7XeJSm4b3zUm3i8CT9MEqWQp_18cfossjDMS...\n",
       "80119    1Kf63JkwP8yYuSQir4HxQtrXbjJTLu16Za_18cfossjDMS...\n",
       "Name: combined, Length: 80120, dtype: object"
      ]
     },
     "execution_count": 20,
     "metadata": {},
     "output_type": "execute_result"
    }
   ],
   "source": [
    "btc_processed_df['combined']"
   ]
  },
  {
   "cell_type": "markdown",
   "id": "bb71282b-0a94-4584-8204-4f182e3a35f1",
   "metadata": {},
   "source": [
    "After initial examination, There was only 1 row of possible fraudulent data. To get around then it would be necessary to try to check the heist_dataframe to see if it's range is within the 2016-2018 range that we are targeting for training. "
   ]
  },
  {
   "cell_type": "code",
   "execution_count": 22,
   "id": "d62a1476-9a53-47a9-9746-84ff59ef8979",
   "metadata": {},
   "outputs": [
    {
     "name": "stdout",
     "output_type": "stream",
     "text": [
      "year\n",
      "2016    15631\n",
      "2014    10319\n",
      "2011     8652\n",
      "2013     7494\n",
      "2015     3701\n",
      "2017     3486\n",
      "2012      714\n",
      "2018        3\n",
      "Name: count, dtype: int64 \n",
      "\n",
      "(50000, 5)\n"
     ]
    }
   ],
   "source": [
    "# See what years are in dataset\n",
    "print(heist_df['year'].value_counts(), \"\\n\")\n",
    "print(heist_df.shape)"
   ]
  },
  {
   "cell_type": "markdown",
   "id": "1e8f8029-4df4-4b17-bf1e-e05f9710724e",
   "metadata": {},
   "source": [
    "We only want year 2016, so we will have to extract only year 2016 and use that as our heist dataframe. "
   ]
  },
  {
   "cell_type": "code",
   "execution_count": 24,
   "id": "def7a213-1354-417c-b036-fcefafbab730",
   "metadata": {},
   "outputs": [
    {
     "data": {
      "text/plain": [
       "(15631, 5)"
      ]
     },
     "execution_count": 24,
     "metadata": {},
     "output_type": "execute_result"
    }
   ],
   "source": [
    "# Only extract the year 2016\n",
    "heist_df = heist_df[heist_df['year'] == 2016]\n",
    "\n",
    "heist_df.shape"
   ]
  },
  {
   "cell_type": "markdown",
   "id": "3d36c26e-ecce-407c-9d2e-abb042952285",
   "metadata": {},
   "source": [
    "We want to check which months since our sample transaction data even though has ~90k records, is only for one month and not the entire year. It would be best to get the month that has the most fraudulent data to provide our model with the most possible data. "
   ]
  },
  {
   "cell_type": "code",
   "execution_count": 26,
   "id": "fb9380ef-568f-4690-9286-3decf77e5518",
   "metadata": {},
   "outputs": [
    {
     "data": {
      "text/plain": [
       "<Axes: xlabel='month'>"
      ]
     },
     "execution_count": 26,
     "metadata": {},
     "output_type": "execute_result"
    },
    {
     "data": {
      "image/png": "[encoded data removed]",
      "text/plain": [
       "<Figure size 640x480 with 1 Axes>"
      ]
     },
     "metadata": {},
     "output_type": "display_data"
    }
   ],
   "source": [
    "# Check heist df. \n",
    "heist_df['month'].value_counts().plot(kind='bar')"
   ]
  },
  {
   "cell_type": "code",
   "execution_count": 27,
   "id": "f2984333-d7a2-46f2-996c-81d58c1c9b51",
   "metadata": {},
   "outputs": [
    {
     "data": {
      "text/plain": [
       "month\n",
       "3    80120\n",
       "Name: count, dtype: int64"
      ]
     },
     "execution_count": 27,
     "metadata": {},
     "output_type": "execute_result"
    }
   ],
   "source": [
    "btc_processed_df['month'].value_counts()"
   ]
  },
  {
   "cell_type": "markdown",
   "id": "09fb53ff-f531-4f76-b4a8-e300fa3dbacc",
   "metadata": {},
   "source": [
    "More values in heist df are in March. I will have to find a file that has more March values, and that will increase the chance of matching values and creating more values in the target variable for training. \n",
    "\n",
    "Currently the current file only has 12k rows in January of 2016. In our heist dataset we only have 29 possible fraudulent values in the heist dataset. "
   ]
  },
  {
   "cell_type": "markdown",
   "id": "4a77bf02-f912-4321-b3d3-ba0833c7a8c3",
   "metadata": {},
   "source": [
    "(cheated) Asked ChatGPT for epochs for March 1, 2016 and March 31, 2016.\n",
    "\n",
    "```\n",
    "March 1, 2016 epoch: 1456790400\n",
    "March 31, 2016 epoch: 1459382400\n",
    "```"
   ]
  },
  {
   "cell_type": "markdown",
   "id": "3b5cce22-e037-47fe-a9de-445fa867884f",
   "metadata": {},
   "source": [
    "File '5626486' has dates in march. Re-creating cleaned_dataset."
   ]
  },
  {
   "cell_type": "markdown",
   "id": "8a28dd59-c065-4971-9b40-26d42cb43bde",
   "metadata": {},
   "source": [
    "For this codeblock we made changes to the transaction data, so we are loading it again to check for matches. We added more values and only values within the month of March. That will give us more of a chance that there is fraudulent transactions in this sample dataset. "
   ]
  },
  {
   "cell_type": "code",
   "execution_count": 32,
   "id": "816372d6-a929-491e-a578-b1b1bfe2c7e8",
   "metadata": {},
   "outputs": [
    {
     "data": {
      "text/html": [
       "<div>\n",
       "<style scoped>\n",
       "    .dataframe tbody tr th:only-of-type {\n",
       "        vertical-align: middle;\n",
       "    }\n",
       "\n",
       "    .dataframe tbody tr th {\n",
       "        vertical-align: top;\n",
       "    }\n",
       "\n",
       "    .dataframe thead th {\n",
       "        text-align: right;\n",
       "    }\n",
       "</style>\n",
       "<table border=\"1\" class=\"dataframe\">\n",
       "  <thead>\n",
       "    <tr style=\"text-align: right;\">\n",
       "      <th></th>\n",
       "      <th>timestamp</th>\n",
       "      <th>source_address</th>\n",
       "      <th>destination_address</th>\n",
       "      <th>satoshi</th>\n",
       "      <th>year</th>\n",
       "      <th>month</th>\n",
       "      <th>day</th>\n",
       "    </tr>\n",
       "  </thead>\n",
       "  <tbody>\n",
       "    <tr>\n",
       "      <th>0</th>\n",
       "      <td>1456791197</td>\n",
       "      <td>16ZZav1Cq5STgj7X5bvP9UgVYJkRk2RDdC</td>\n",
       "      <td>1KgqD2G2NSZYgHk5m7AW3wxupDj3H76Q8e</td>\n",
       "      <td>156555.0</td>\n",
       "      <td>2016</td>\n",
       "      <td>3</td>\n",
       "      <td>1</td>\n",
       "    </tr>\n",
       "    <tr>\n",
       "      <th>1</th>\n",
       "      <td>1456791197</td>\n",
       "      <td>16ZZav1Cq5STgj7X5bvP9UgVYJkRk2RDdC</td>\n",
       "      <td>1NZF5BEn5iCe655fj4vd5UMaXXfVvFH5aJ</td>\n",
       "      <td>26400000.0</td>\n",
       "      <td>2016</td>\n",
       "      <td>3</td>\n",
       "      <td>1</td>\n",
       "    </tr>\n",
       "    <tr>\n",
       "      <th>2</th>\n",
       "      <td>1456791197</td>\n",
       "      <td>1NcktapNVSfbH9FZ9mWZcgMaaokNj9Goyo</td>\n",
       "      <td>1NXmUs99Rn8FzyYMK5bmBAPL81VzmPhH9d</td>\n",
       "      <td>245057610.0</td>\n",
       "      <td>2016</td>\n",
       "      <td>3</td>\n",
       "      <td>1</td>\n",
       "    </tr>\n",
       "    <tr>\n",
       "      <th>3</th>\n",
       "      <td>1456791197</td>\n",
       "      <td>1NcktapNVSfbH9FZ9mWZcgMaaokNj9Goyo</td>\n",
       "      <td>1NcktapNVSfbH9FZ9mWZcgMaaokNj9Goyo</td>\n",
       "      <td>48151.0</td>\n",
       "      <td>2016</td>\n",
       "      <td>3</td>\n",
       "      <td>1</td>\n",
       "    </tr>\n",
       "    <tr>\n",
       "      <th>4</th>\n",
       "      <td>1456791197</td>\n",
       "      <td>1PaQM5ngUGzZYS3e9epbY7BiZvrukDoJQB</td>\n",
       "      <td>14jvp9Sj4peh28CKxifLob2jsZAcYPfZ74</td>\n",
       "      <td>20860000.0</td>\n",
       "      <td>2016</td>\n",
       "      <td>3</td>\n",
       "      <td>1</td>\n",
       "    </tr>\n",
       "  </tbody>\n",
       "</table>\n",
       "</div>"
      ],
      "text/plain": [
       "    timestamp                      source_address  \\\n",
       "0  1456791197  16ZZav1Cq5STgj7X5bvP9UgVYJkRk2RDdC   \n",
       "1  1456791197  16ZZav1Cq5STgj7X5bvP9UgVYJkRk2RDdC   \n",
       "2  1456791197  1NcktapNVSfbH9FZ9mWZcgMaaokNj9Goyo   \n",
       "3  1456791197  1NcktapNVSfbH9FZ9mWZcgMaaokNj9Goyo   \n",
       "4  1456791197  1PaQM5ngUGzZYS3e9epbY7BiZvrukDoJQB   \n",
       "\n",
       "                  destination_address      satoshi  year  month  day  \n",
       "0  1KgqD2G2NSZYgHk5m7AW3wxupDj3H76Q8e     156555.0  2016      3    1  \n",
       "1  1NZF5BEn5iCe655fj4vd5UMaXXfVvFH5aJ   26400000.0  2016      3    1  \n",
       "2  1NXmUs99Rn8FzyYMK5bmBAPL81VzmPhH9d  245057610.0  2016      3    1  \n",
       "3  1NcktapNVSfbH9FZ9mWZcgMaaokNj9Goyo      48151.0  2016      3    1  \n",
       "4  14jvp9Sj4peh28CKxifLob2jsZAcYPfZ74   20860000.0  2016      3    1  "
      ]
     },
     "execution_count": 32,
     "metadata": {},
     "output_type": "execute_result"
    }
   ],
   "source": [
    "# Load data again. \n",
    "btc_processed_df = pd.read_csv(\"../data/btc_trans_data/data_raw/btc_data_cleaned.csv\")\n",
    "\n",
    "btc_processed_df.head()"
   ]
  },
  {
   "cell_type": "code",
   "execution_count": 33,
   "id": "4140ab22-6cb5-4753-b5e1-950ad2ac69b3",
   "metadata": {},
   "outputs": [
    {
     "data": {
      "text/plain": [
       "day\n",
       "1     78013\n",
       "10      356\n",
       "3       312\n",
       "8       265\n",
       "12      250\n",
       "9       240\n",
       "4       187\n",
       "5       143\n",
       "2       123\n",
       "11      106\n",
       "6        67\n",
       "7        49\n",
       "13        9\n",
       "Name: count, dtype: int64"
      ]
     },
     "execution_count": 33,
     "metadata": {},
     "output_type": "execute_result"
    }
   ],
   "source": [
    "# Check which day in the month is in the sampled data. \n",
    "btc_processed_df['day'].value_counts()"
   ]
  },
  {
   "cell_type": "code",
   "execution_count": 34,
   "id": "eba5f54a-3c53-44b0-a268-1503b6a726bb",
   "metadata": {},
   "outputs": [
    {
     "data": {
      "text/plain": [
       "day\n",
       "19    675\n",
       "17    631\n",
       "24    621\n",
       "22    607\n",
       "9     603\n",
       "18    585\n",
       "1     577\n",
       "25    559\n",
       "26    550\n",
       "8     543\n",
       "10    543\n",
       "23    539\n",
       "30    531\n",
       "7     525\n",
       "21    507\n",
       "5     501\n",
       "11    498\n",
       "16    490\n",
       "2     489\n",
       "6     464\n",
       "4     461\n",
       "20    459\n",
       "29    452\n",
       "28    447\n",
       "27    427\n",
       "3     415\n",
       "13    415\n",
       "14    411\n",
       "15    404\n",
       "12    394\n",
       "31    308\n",
       "Name: count, dtype: int64"
      ]
     },
     "execution_count": 34,
     "metadata": {},
     "output_type": "execute_result"
    }
   ],
   "source": [
    "# Check which day in the month is the heist data. \n",
    "heist_df['day'].value_counts()"
   ]
  },
  {
   "cell_type": "code",
   "execution_count": 35,
   "id": "6a3d055c-39d5-43e6-a496-076e8d5e03ad",
   "metadata": {},
   "outputs": [
    {
     "data": {
      "text/plain": [
       "0.047875871224692994"
      ]
     },
     "execution_count": 35,
     "metadata": {},
     "output_type": "execute_result"
    }
   ],
   "source": [
    "577 / 12052"
   ]
  },
  {
   "cell_type": "code",
   "execution_count": 36,
   "id": "98183fdc-4263-42db-93cd-157e9286df72",
   "metadata": {},
   "outputs": [
    {
     "data": {
      "text/plain": [
       "482.08"
      ]
     },
     "execution_count": 36,
     "metadata": {},
     "output_type": "execute_result"
    }
   ],
   "source": [
    "12052 * .04"
   ]
  },
  {
   "cell_type": "markdown",
   "id": "034e2087-5dd7-4fac-b678-f6211ee40732",
   "metadata": {},
   "source": [
    "We can conclude that since only the first day of the month (March 1, 2016) is in the sampled dataset that day only had 577 fraudulent transactions. That would mean the chances of fraudulent transactions is (577/96418) .005 % of the transactions. That is not very good. We may have to cheat and force some transactions in the sample dataset. "
   ]
  },
  {
   "cell_type": "code",
   "execution_count": 38,
   "id": "95b9a74b-8f7e-4348-8101-eb84c549568d",
   "metadata": {},
   "outputs": [
    {
     "data": {
      "text/plain": [
       "combined\n",
       "False    80120\n",
       "Name: count, dtype: int64"
      ]
     },
     "execution_count": 38,
     "metadata": {},
     "output_type": "execute_result"
    }
   ],
   "source": [
    "# Check if there are matches\n",
    "btc_processed_df['combined'] = btc_processed_df['source_address'] + '_' + btc_processed_df['destination_address']\n",
    "\n",
    "matched = btc_processed_df['combined'].isin([heist_df['address']])\n",
    "\n",
    "matched.value_counts()"
   ]
  },
  {
   "cell_type": "code",
   "execution_count": 39,
   "id": "5ff1f6c2-bbe8-4e1a-bcd3-5acb72885db4",
   "metadata": {},
   "outputs": [
    {
     "name": "stdout",
     "output_type": "stream",
     "text": [
      "<class 'pandas.core.frame.DataFrame'>\n",
      "Index: 15631 entries, 1 to 41412\n",
      "Data columns (total 5 columns):\n",
      " #   Column   Non-Null Count  Dtype  \n",
      "---  ------   --------------  -----  \n",
      " 0   address  15631 non-null  object \n",
      " 1   year     15631 non-null  int64  \n",
      " 2   income   15631 non-null  float64\n",
      " 3   day      15631 non-null  int64  \n",
      " 4   month    15631 non-null  int64  \n",
      "dtypes: float64(1), int64(3), object(1)\n",
      "memory usage: 732.7+ KB\n"
     ]
    }
   ],
   "source": [
    "# Check dataframe again\n",
    "heist_df.info()"
   ]
  },
  {
   "cell_type": "code",
   "execution_count": 40,
   "id": "ad6b49bb-8226-4197-a279-3fdabebde41e",
   "metadata": {},
   "outputs": [
    {
     "name": "stdout",
     "output_type": "stream",
     "text": [
      "<class 'pandas.core.frame.DataFrame'>\n",
      "RangeIndex: 80120 entries, 0 to 80119\n",
      "Data columns (total 8 columns):\n",
      " #   Column               Non-Null Count  Dtype  \n",
      "---  ------               --------------  -----  \n",
      " 0   timestamp            80120 non-null  int64  \n",
      " 1   source_address       80120 non-null  object \n",
      " 2   destination_address  80120 non-null  object \n",
      " 3   satoshi              80120 non-null  float64\n",
      " 4   year                 80120 non-null  int64  \n",
      " 5   month                80120 non-null  int64  \n",
      " 6   day                  80120 non-null  int64  \n",
      " 7   combined             80120 non-null  object \n",
      "dtypes: float64(1), int64(4), object(3)\n",
      "memory usage: 4.9+ MB\n"
     ]
    }
   ],
   "source": [
    "# Check dataframe again\n",
    "btc_processed_df.info()"
   ]
  },
  {
   "cell_type": "markdown",
   "id": "8f852e82-a044-478f-8e56-e9becc60f8f9",
   "metadata": {},
   "source": [
    "I found it easier to manipulate sets to get unique values and check the intersection of different sets. In this case we are checking how many fraud. addresses are in the source address and destination addresses of the sampled dataset. "
   ]
  },
  {
   "cell_type": "code",
   "execution_count": 42,
   "id": "514561b5-5e90-4bab-8a8c-c100c914289b",
   "metadata": {},
   "outputs": [
    {
     "name": "stdout",
     "output_type": "stream",
     "text": [
      "source_address: 632\n",
      "destination_address: 506\n",
      "matching addresses: 681\n"
     ]
    }
   ],
   "source": [
    "# Use intersection and union to manipulate sets\n",
    "heist_addresses = set(heist_df['address'])\n",
    "\n",
    "source_addresses = set(btc_processed_df['source_address'])\n",
    "destination_addresses = set(btc_processed_df['destination_address'])\n",
    "\n",
    "matches_in_source = heist_addresses.intersection(source_addresses)\n",
    "matches_in_destination = heist_addresses.intersection(destination_addresses)\n",
    "\n",
    "all_matches = matches_in_source.union(matches_in_destination)\n",
    "\n",
    "print(\"source_address:\", len(matches_in_source))\n",
    "print(\"destination_address:\", len(matches_in_destination))\n",
    "\n",
    "print(\"matching addresses:\", len(all_matches))"
   ]
  },
  {
   "cell_type": "markdown",
   "id": "290b571a-5d44-44dd-847c-6c5146e7b706",
   "metadata": {},
   "source": [
    "Initially only 1 address was found. After further troubleshooting I was able to figure this out. "
   ]
  },
  {
   "cell_type": "code",
   "execution_count": 44,
   "id": "23d2701c-f3e2-40c9-a583-2c15b67e9b3a",
   "metadata": {},
   "outputs": [
    {
     "name": "stdout",
     "output_type": "stream",
     "text": [
      "1\n"
     ]
    }
   ],
   "source": [
    "# Only one was found. May have to cheat. \n",
    "aa = btc_processed_df[btc_processed_df['destination_address'] == '18nYi7tFNRYhyLgWwYgKSrH8KTHFcTm1yx']\n",
    "\n",
    "print(len(aa))"
   ]
  },
  {
   "cell_type": "code",
   "execution_count": 45,
   "id": "0789350e-a66f-4400-9c69-c1539a085a33",
   "metadata": {},
   "outputs": [
    {
     "data": {
      "text/plain": [
       "14089"
      ]
     },
     "execution_count": 45,
     "metadata": {},
     "output_type": "execute_result"
    }
   ],
   "source": [
    "heist_set_series = pd.Series(list(heist_addresses))\n",
    "\n",
    "len(heist_set_series)"
   ]
  },
  {
   "cell_type": "markdown",
   "id": "7229bb7a-1988-4433-8b46-c8eaec919e28",
   "metadata": {},
   "source": [
    "I will have to use the heistdata in the combiner. Exporting the variable as a csv and using it there to get the fraudulent addresses and merge them."
   ]
  },
  {
   "cell_type": "code",
   "execution_count": 47,
   "id": "b6cf317c-bca2-45b7-8bc0-1000ddf82a0f",
   "metadata": {},
   "outputs": [],
   "source": [
    "# Saving to use in other file\n",
    "heist_set_series.to_csv(\"heist_set_addresses.csv\", index=False, header=True, sep=',')"
   ]
  },
  {
   "cell_type": "code",
   "execution_count": 48,
   "id": "6bbe7b58-00bc-4fe4-b370-d28d6d45a9e5",
   "metadata": {},
   "outputs": [
    {
     "data": {
      "text/html": [
       "<div>\n",
       "<style scoped>\n",
       "    .dataframe tbody tr th:only-of-type {\n",
       "        vertical-align: middle;\n",
       "    }\n",
       "\n",
       "    .dataframe tbody tr th {\n",
       "        vertical-align: top;\n",
       "    }\n",
       "\n",
       "    .dataframe thead th {\n",
       "        text-align: right;\n",
       "    }\n",
       "</style>\n",
       "<table border=\"1\" class=\"dataframe\">\n",
       "  <thead>\n",
       "    <tr style=\"text-align: right;\">\n",
       "      <th></th>\n",
       "      <th>timestamp</th>\n",
       "      <th>source_address</th>\n",
       "      <th>destination_address</th>\n",
       "      <th>satoshi</th>\n",
       "      <th>year</th>\n",
       "      <th>month</th>\n",
       "      <th>day</th>\n",
       "    </tr>\n",
       "  </thead>\n",
       "  <tbody>\n",
       "    <tr>\n",
       "      <th>0</th>\n",
       "      <td>1456791197</td>\n",
       "      <td>16ZZav1Cq5STgj7X5bvP9UgVYJkRk2RDdC</td>\n",
       "      <td>1KgqD2G2NSZYgHk5m7AW3wxupDj3H76Q8e</td>\n",
       "      <td>156555.0</td>\n",
       "      <td>2016</td>\n",
       "      <td>3</td>\n",
       "      <td>1</td>\n",
       "    </tr>\n",
       "    <tr>\n",
       "      <th>1</th>\n",
       "      <td>1456791197</td>\n",
       "      <td>16ZZav1Cq5STgj7X5bvP9UgVYJkRk2RDdC</td>\n",
       "      <td>1NZF5BEn5iCe655fj4vd5UMaXXfVvFH5aJ</td>\n",
       "      <td>26400000.0</td>\n",
       "      <td>2016</td>\n",
       "      <td>3</td>\n",
       "      <td>1</td>\n",
       "    </tr>\n",
       "    <tr>\n",
       "      <th>2</th>\n",
       "      <td>1456791197</td>\n",
       "      <td>1NcktapNVSfbH9FZ9mWZcgMaaokNj9Goyo</td>\n",
       "      <td>1NXmUs99Rn8FzyYMK5bmBAPL81VzmPhH9d</td>\n",
       "      <td>245057610.0</td>\n",
       "      <td>2016</td>\n",
       "      <td>3</td>\n",
       "      <td>1</td>\n",
       "    </tr>\n",
       "    <tr>\n",
       "      <th>3</th>\n",
       "      <td>1456791197</td>\n",
       "      <td>1NcktapNVSfbH9FZ9mWZcgMaaokNj9Goyo</td>\n",
       "      <td>1NcktapNVSfbH9FZ9mWZcgMaaokNj9Goyo</td>\n",
       "      <td>48151.0</td>\n",
       "      <td>2016</td>\n",
       "      <td>3</td>\n",
       "      <td>1</td>\n",
       "    </tr>\n",
       "    <tr>\n",
       "      <th>4</th>\n",
       "      <td>1456791197</td>\n",
       "      <td>1PaQM5ngUGzZYS3e9epbY7BiZvrukDoJQB</td>\n",
       "      <td>14jvp9Sj4peh28CKxifLob2jsZAcYPfZ74</td>\n",
       "      <td>20860000.0</td>\n",
       "      <td>2016</td>\n",
       "      <td>3</td>\n",
       "      <td>1</td>\n",
       "    </tr>\n",
       "  </tbody>\n",
       "</table>\n",
       "</div>"
      ],
      "text/plain": [
       "    timestamp                      source_address  \\\n",
       "0  1456791197  16ZZav1Cq5STgj7X5bvP9UgVYJkRk2RDdC   \n",
       "1  1456791197  16ZZav1Cq5STgj7X5bvP9UgVYJkRk2RDdC   \n",
       "2  1456791197  1NcktapNVSfbH9FZ9mWZcgMaaokNj9Goyo   \n",
       "3  1456791197  1NcktapNVSfbH9FZ9mWZcgMaaokNj9Goyo   \n",
       "4  1456791197  1PaQM5ngUGzZYS3e9epbY7BiZvrukDoJQB   \n",
       "\n",
       "                  destination_address      satoshi  year  month  day  \n",
       "0  1KgqD2G2NSZYgHk5m7AW3wxupDj3H76Q8e     156555.0  2016      3    1  \n",
       "1  1NZF5BEn5iCe655fj4vd5UMaXXfVvFH5aJ   26400000.0  2016      3    1  \n",
       "2  1NXmUs99Rn8FzyYMK5bmBAPL81VzmPhH9d  245057610.0  2016      3    1  \n",
       "3  1NcktapNVSfbH9FZ9mWZcgMaaokNj9Goyo      48151.0  2016      3    1  \n",
       "4  14jvp9Sj4peh28CKxifLob2jsZAcYPfZ74   20860000.0  2016      3    1  "
      ]
     },
     "execution_count": 48,
     "metadata": {},
     "output_type": "execute_result"
    }
   ],
   "source": [
    "# Cheated and force merged ~630 possible fraud rows from the ~2mil rows in the sampled dataset. To continue this part of EDA\n",
    "btc_processed_df = pd.read_csv(\"../data/btc_trans_data/data_raw/btc_data_cleaned.csv\")\n",
    "\n",
    "btc_processed_df.head()"
   ]
  },
  {
   "cell_type": "code",
   "execution_count": 49,
   "id": "e75354d9-5c39-425a-83a1-68aa3f52fec2",
   "metadata": {
    "scrolled": true
   },
   "outputs": [
    {
     "data": {
      "text/plain": [
       "(80120, 7)"
      ]
     },
     "execution_count": 49,
     "metadata": {},
     "output_type": "execute_result"
    }
   ],
   "source": [
    "# Updated dataframe\n",
    "btc_processed_df.shape # Should be (80120, 7). Duplicates were also dropped. "
   ]
  },
  {
   "cell_type": "code",
   "execution_count": 50,
   "id": "b5ba584e-7f9d-4713-9c78-f0421c1546d9",
   "metadata": {},
   "outputs": [
    {
     "name": "stdout",
     "output_type": "stream",
     "text": [
      "<class 'pandas.core.frame.DataFrame'>\n",
      "RangeIndex: 80120 entries, 0 to 80119\n",
      "Data columns (total 7 columns):\n",
      " #   Column               Non-Null Count  Dtype  \n",
      "---  ------               --------------  -----  \n",
      " 0   timestamp            80120 non-null  int64  \n",
      " 1   source_address       80120 non-null  object \n",
      " 2   destination_address  80120 non-null  object \n",
      " 3   satoshi              80120 non-null  float64\n",
      " 4   year                 80120 non-null  int64  \n",
      " 5   month                80120 non-null  int64  \n",
      " 6   day                  80120 non-null  int64  \n",
      "dtypes: float64(1), int64(4), object(2)\n",
      "memory usage: 4.3+ MB\n"
     ]
    }
   ],
   "source": [
    "# Check cols and datatypes in dataframe\n",
    "btc_processed_df.info()"
   ]
  },
  {
   "cell_type": "code",
   "execution_count": 51,
   "id": "5d0884b4-c1ef-4c9b-bee4-66765f8a090e",
   "metadata": {},
   "outputs": [
    {
     "data": {
      "text/plain": [
       "0    False\n",
       "1    False\n",
       "2    False\n",
       "3    False\n",
       "4    False\n",
       "Name: is_possible_fraud, dtype: bool"
      ]
     },
     "execution_count": 51,
     "metadata": {},
     "output_type": "execute_result"
    }
   ],
   "source": [
    "# Create target variable is_possible_fraud in the dataframe\n",
    "btc_processed_df['is_possible_fraud'] = False\n",
    "\n",
    "# check col\n",
    "btc_processed_df['is_possible_fraud'].head()"
   ]
  },
  {
   "cell_type": "code",
   "execution_count": 52,
   "id": "3bffd8ac-7085-415a-8079-2cd8f3e2d1ec",
   "metadata": {},
   "outputs": [
    {
     "data": {
      "text/plain": [
       "is_possible_fraud\n",
       "0    77665\n",
       "1     2455\n",
       "Name: count, dtype: int64"
      ]
     },
     "execution_count": 52,
     "metadata": {},
     "output_type": "execute_result"
    }
   ],
   "source": [
    "# Set possible fraud to true\n",
    "btc_processed_df['is_possible_fraud'] = btc_processed_df['source_address'].isin(heist_set_series) | btc_processed_df['destination_address'].isin(heist_set_series)\n",
    "\n",
    "# Convert boolean to int\n",
    "btc_processed_df['is_possible_fraud'] = btc_processed_df['is_possible_fraud'].astype(int)\n",
    "\n",
    "# check value counts\n",
    "btc_processed_df['is_possible_fraud'].value_counts()"
   ]
  },
  {
   "cell_type": "markdown",
   "id": "d4533670",
   "metadata": {},
   "source": [
    "## Exploratory Data Analysis\n",
    "Now that we have a decent number of flagged fraudulent transactions, it's time to analyze the data and see if there are any patterns to it. "
   ]
  },
  {
   "cell_type": "code",
   "execution_count": 54,
   "id": "8f46b0bc-ec18-4b00-a1b5-69e2a90267db",
   "metadata": {},
   "outputs": [],
   "source": [
    "# Rename dataframe to make it easy to work with\n",
    "df = btc_processed_df\n",
    "\n",
    "# Cleanup\n",
    "del btc_processed_df"
   ]
  },
  {
   "cell_type": "code",
   "execution_count": 55,
   "id": "0c2fe9d8",
   "metadata": {},
   "outputs": [
    {
     "name": "stdout",
     "output_type": "stream",
     "text": [
      "<class 'pandas.core.frame.DataFrame'>\n",
      "RangeIndex: 80120 entries, 0 to 80119\n",
      "Data columns (total 8 columns):\n",
      " #   Column               Non-Null Count  Dtype  \n",
      "---  ------               --------------  -----  \n",
      " 0   timestamp            80120 non-null  int64  \n",
      " 1   source_address       80120 non-null  object \n",
      " 2   destination_address  80120 non-null  object \n",
      " 3   satoshi              80120 non-null  float64\n",
      " 4   year                 80120 non-null  int64  \n",
      " 5   month                80120 non-null  int64  \n",
      " 6   day                  80120 non-null  int64  \n",
      " 7   is_possible_fraud    80120 non-null  int32  \n",
      "dtypes: float64(1), int32(1), int64(4), object(2)\n",
      "memory usage: 4.6+ MB\n"
     ]
    }
   ],
   "source": [
    "# Verify\n",
    "df.info()"
   ]
  },
  {
   "cell_type": "markdown",
   "id": "bdd2ba75",
   "metadata": {},
   "source": [
    "### Concentration of transactions\n",
    "It appears there are a concentration of transactions on the first day."
   ]
  },
  {
   "cell_type": "code",
   "execution_count": 57,
   "id": "dc70dc13",
   "metadata": {},
   "outputs": [
    {
     "data": {
      "text/plain": [
       "<Axes: title={'center': 'Days in Transaction dataset'}, xlabel='Day', ylabel='Count'>"
      ]
     },
     "execution_count": 57,
     "metadata": {},
     "output_type": "execute_result"
    },
    {
     "data": {
      "image/png": "[encoded data removed]",
      "text/plain": [
       "<Figure size 640x480 with 1 Axes>"
      ]
     },
     "metadata": {},
     "output_type": "display_data"
    }
   ],
   "source": [
    "df['day'].value_counts().sort_index().plot(kind='bar', title='Days in Transaction dataset', ylabel='Count', xlabel='Day')"
   ]
  },
  {
   "cell_type": "markdown",
   "id": "154e53a4",
   "metadata": {},
   "source": [
    "In this case, the dataset ends on the 13th day. "
   ]
  },
  {
   "cell_type": "code",
   "execution_count": 59,
   "id": "3fb0d7b2",
   "metadata": {},
   "outputs": [
    {
     "data": {
      "text/plain": [
       "<Axes: title={'center': 'Days in Transaction dataset'}, xlabel='Day', ylabel='Count'>"
      ]
     },
     "execution_count": 59,
     "metadata": {},
     "output_type": "execute_result"
    },
    {
     "data": {
      "image/png": "[encoded data removed]",
      "text/plain": [
       "<Figure size 640x480 with 1 Axes>"
      ]
     },
     "metadata": {},
     "output_type": "display_data"
    }
   ],
   "source": [
    "# Exclude the first day and look at value counts. \n",
    "temp_df = df[df['day'] != 1]\n",
    "\n",
    "day_range = range(2, 32)\n",
    "day_counts = temp_df['day'].value_counts().reindex(day_range, fill_value=0)\n",
    "\n",
    "day_counts.sort_index().plot(kind='bar', title='Days in Transaction dataset', ylabel='Count', xlabel='Day')"
   ]
  },
  {
   "cell_type": "markdown",
   "id": "818552d0",
   "metadata": {},
   "source": [
    "We should analyze the first row. Maybe that is where the concentration of the forced fraud transactions. "
   ]
  },
  {
   "cell_type": "code",
   "execution_count": 61,
   "id": "7de812a4",
   "metadata": {},
   "outputs": [
    {
     "name": "stdout",
     "output_type": "stream",
     "text": [
      "is_possible_fraud\n",
      "0    77665\n",
      "1      348\n",
      "Name: count, dtype: int64\n"
     ]
    },
    {
     "data": {
      "image/png": "[encoded data removed]",
      "text/plain": [
       "<Figure size 640x480 with 1 Axes>"
      ]
     },
     "metadata": {},
     "output_type": "display_data"
    }
   ],
   "source": [
    "temp_df = df[df['day'] == 1]\n",
    "\n",
    "temp_df['is_possible_fraud'].value_counts().plot(kind='bar', title='Possible Fraud on the First Day of March', ylabel=\"Quantity\", xlabel=\"Boolean\")\n",
    "\n",
    "print(temp_df['is_possible_fraud'].value_counts())"
   ]
  },
  {
   "cell_type": "markdown",
   "id": "39f75007",
   "metadata": {},
   "source": [
    "After doing some research on March 1, 2016 it was Super Tuesday in the united states. Usually things that happen in politics often affect what happens in the crypto market. \n",
    "\n",
    "```\n",
    "Super Tuesday in the 2016 presidential election was held on March 1, 2016. This date was dubbed the SEC Primary, since many of the participating states were represented in the U.S. Southeastern Conference for college athletics (five southern states).[27][28]\n",
    "\n",
    "The participating states included Alabama, Arkansas, Colorado, Georgia, Massachusetts, Minnesota (with caucuses), Oklahoma, Tennessee, Texas, Vermont, and Virginia. Additionally, Republican caucuses were held in Alaska, North Dakota, and Wyoming.[28][29] The territory of American Samoa held a Democratic caucus.[29]\n",
    "\n",
    "The Republican candidates could win about half of the 1,237 delegates needed to secure their party's presidential nomination. The two remaining Democrats were after 880 delegates, roughly one-third of those needed to win. The number of delegates from Texas is much greater than the other states: 155 for Republicans and 252 for Democrats.\n",
    "\n",
    "The Democratic primaries and caucuses concluded with Hillary Clinton winning Alabama, Arkansas, Georgia, Massachusetts, Tennessee, Texas, and Virginia, and Bernie Sanders winning Colorado, Minnesota, Oklahoma, and Vermont. Clinton received 486 delegates, and Sanders received 321.[30] - Wikipedia\n",
    "```\n",
    "\n",
    "https://www.washingtonpost.com/politics/as-sec-primary-takes-shape-will-presidential-contenders-show-up/2015/05/23/47f9c318-0137-11e5-805c-c3f407e5a9e9_story.html\n",
    "\n",
    "So there may have been a lot of transactions based on the sentiment after the elections. However, there were a few transactions made to or from known fraudulent addresses."
   ]
  },
  {
   "cell_type": "markdown",
   "id": "c1141b34",
   "metadata": {},
   "source": [
    "### Analyze Satoshi's (Volume)\n",
    "Satoshi's is the smallest form of currency to the millionth of bitcoin. This is analogous to `$`1.00 is one dollar and `$`.01 is one cent. Up to 99 cents you can have before having a dollar. You can have .9999999 Satoshi's before you have 1 Bitcoin (BTC). \n",
    "\n",
    "Volume is the measurement of transactions. This would include buying Bitcoin, Selling Bitcoin to fiat (dollars, pesos, etc.) and wallet to wallet transfers. "
   ]
  },
  {
   "cell_type": "code",
   "execution_count": 64,
   "id": "0978d4a6",
   "metadata": {},
   "outputs": [],
   "source": [
    "# Method to convert values of satoshi's to bitcoin\n",
    "def sat_to_btc(sats):\n",
    "    return sats / 100000000"
   ]
  },
  {
   "cell_type": "code",
   "execution_count": 254,
   "id": "b97801dd",
   "metadata": {},
   "outputs": [
    {
     "name": "stdout",
     "output_type": "stream",
     "text": [
      "day\n",
      "1    1050048\n",
      "2        892\n",
      "3       6292\n",
      "4       2202\n",
      "5       2726\n",
      "6       1194\n",
      "7         93\n",
      "8       4785\n",
      "9       3168\n",
      "10      6387\n",
      "11      1160\n",
      "12      7763\n",
      "13         2\n",
      "Name: satoshi, dtype: float64\n",
      "Total btc's in dataset:  1086712.70612756\n"
     ]
    },
    {
     "data": {
      "image/png": "[encoded data removed]",
      "text/plain": [
       "<Figure size 640x480 with 1 Axes>"
      ]
     },
     "metadata": {},
     "output_type": "display_data"
    }
   ],
   "source": [
    "df_satoshis = df.groupby(['day'])['satoshi'].sum().apply(sat_to_btc)\n",
    "\n",
    "# Set float format to reduce confusion\n",
    "df_satoshis.apply(lambda x: f\"{x:.0f}\")\n",
    "\n",
    "df_satoshis.plot(kind='bar', title=\"BTC Volume per day\", ylabel=\"BTC\", xlabel=\"Value in BTC\")\n",
    "\n",
    "print(df_satoshis)\n",
    "print(\"Total btc's in dataset: \", sat_to_btc(df['satoshi'].sum()))"
   ]
  },
  {
   "cell_type": "code",
   "execution_count": 238,
   "id": "78508e63-292e-4ba7-9314-efa1a5baa974",
   "metadata": {},
   "outputs": [
    {
     "data": {
      "text/plain": [
       "count    1.300000e+01\n",
       "mean     8.359329e+04\n",
       "std      2.903945e+05\n",
       "min      2.004100e+00\n",
       "25%      1.159542e+03\n",
       "50%      2.726363e+03\n",
       "75%      6.292486e+03\n",
       "max      1.050048e+06\n",
       "Name: satoshi, dtype: float64"
      ]
     },
     "execution_count": 238,
     "metadata": {},
     "output_type": "execute_result"
    }
   ],
   "source": [
    "df.groupby(['day'])['satoshi'].sum().apply(sat_to_btc).describe()"
   ]
  },
  {
   "cell_type": "markdown",
   "id": "2046c9f9",
   "metadata": {},
   "source": [
    "We will have to exclude the first day to analyze the daily volume. "
   ]
  },
  {
   "cell_type": "code",
   "execution_count": 203,
   "id": "09f2c2e2",
   "metadata": {},
   "outputs": [
    {
     "data": {
      "text/plain": [
       "<Axes: title={'center': 'BTC Volume per day (minus the first)'}, xlabel='Value in BTC', ylabel='BTC'>"
      ]
     },
     "execution_count": 203,
     "metadata": {},
     "output_type": "execute_result"
    },
    {
     "data": {
      "image/png": "[encoded data removed]",
      "text/plain": [
       "<Figure size 640x480 with 1 Axes>"
      ]
     },
     "metadata": {},
     "output_type": "display_data"
    }
   ],
   "source": [
    "# temp_sats = temp_df[df[]].groupby(['day'])['satoshi']\n",
    "temp_sats = df[df['day'] != 1].groupby(['day'])['satoshi'].sum().apply(sat_to_btc)\n",
    "\n",
    "temp_sats.plot(kind='bar', title=\"BTC Volume per day (minus the first)\", ylabel=\"BTC\", xlabel=\"Value in BTC\")"
   ]
  },
  {
   "cell_type": "markdown",
   "id": "3698eee4",
   "metadata": {},
   "source": [
    "This shows a distributed amount of volume after the first. I can't identify a real pattern from that besides day 7 was low. "
   ]
  },
  {
   "cell_type": "markdown",
   "id": "e37d9eb0",
   "metadata": {},
   "source": [
    "Look at the distribution of possible fraudulent data. "
   ]
  },
  {
   "cell_type": "code",
   "execution_count": 70,
   "id": "a628155c",
   "metadata": {},
   "outputs": [
    {
     "name": "stdout",
     "output_type": "stream",
     "text": [
      "<class 'pandas.core.frame.DataFrame'>\n",
      "RangeIndex: 80120 entries, 0 to 80119\n",
      "Data columns (total 8 columns):\n",
      " #   Column               Non-Null Count  Dtype  \n",
      "---  ------               --------------  -----  \n",
      " 0   timestamp            80120 non-null  int64  \n",
      " 1   source_address       80120 non-null  object \n",
      " 2   destination_address  80120 non-null  object \n",
      " 3   satoshi              80120 non-null  float64\n",
      " 4   year                 80120 non-null  int64  \n",
      " 5   month                80120 non-null  int64  \n",
      " 6   day                  80120 non-null  int64  \n",
      " 7   is_possible_fraud    80120 non-null  int32  \n",
      "dtypes: float64(1), int32(1), int64(4), object(2)\n",
      "memory usage: 4.6+ MB\n"
     ]
    }
   ],
   "source": [
    "df.info()"
   ]
  },
  {
   "cell_type": "code",
   "execution_count": 71,
   "id": "c3df42c5",
   "metadata": {},
   "outputs": [
    {
     "data": {
      "text/plain": [
       "<Axes: title={'center': 'Quantity of Poss. Fraud'}, xlabel='Day Number', ylabel='Number of Tx'>"
      ]
     },
     "execution_count": 71,
     "metadata": {},
     "output_type": "execute_result"
    },
    {
     "data": {
      "image/png": "[encoded data removed]",
      "text/plain": [
       "<Figure size 640x480 with 1 Axes>"
      ]
     },
     "metadata": {},
     "output_type": "display_data"
    }
   ],
   "source": [
    "# Quantity of Possible Fraud\n",
    "df_fraud = df[df['is_possible_fraud'] == 1].groupby(['day'])\n",
    "df_fraud = df_fraud['is_possible_fraud'].count()\n",
    "\n",
    "df_fraud.plot(kind='bar', title=\"Quantity of Poss. Fraud\", ylabel=\"Number of Tx\", xlabel=\"Day Number\")"
   ]
  },
  {
   "cell_type": "markdown",
   "id": "77f0818e",
   "metadata": {},
   "source": [
    "Looking at this distribution, it's more randomly distributed."
   ]
  },
  {
   "cell_type": "code",
   "execution_count": 73,
   "id": "ddd6a2a1",
   "metadata": {},
   "outputs": [
    {
     "data": {
      "text/plain": [
       "<Axes: title={'center': 'Volume of Poss. Fraud'}, xlabel='Day Number', ylabel='Number of Tx'>"
      ]
     },
     "execution_count": 73,
     "metadata": {},
     "output_type": "execute_result"
    },
    {
     "data": {
      "image/png": "[encoded data removed]",
      "text/plain": [
       "<Figure size 640x480 with 1 Axes>"
      ]
     },
     "metadata": {},
     "output_type": "display_data"
    }
   ],
   "source": [
    "# Volume of Possible Fraud\n",
    "df_satoshis_fraud = df[df['is_possible_fraud'] == 1].groupby(['day'])['satoshi'].sum().apply(sat_to_btc)\n",
    "df_satoshis_fraud.plot(kind='bar', title=\"Volume of Poss. Fraud\", ylabel=\"Number of Tx\", xlabel=\"Day Number\")"
   ]
  },
  {
   "cell_type": "markdown",
   "id": "8fe0d01d",
   "metadata": {},
   "source": [
    "In this graph, it appears that the first day like before has a the largest volume of possible fraudulent transactions. Day 7 and 13 are the lowest of possible transactions but also in the previous volume graph it has a lower amount of transactions."
   ]
  },
  {
   "cell_type": "markdown",
   "id": "4109562d",
   "metadata": {},
   "source": [
    "## Preliminary Modeling. \n",
    "Preliminary modeling. Since this is a classification problem trying to identify fraud we can do a Logistic Regression model. We will take our data, throw it in the model and get an initial baseline of where we are at and test the accuracy. "
   ]
  },
  {
   "cell_type": "code",
   "execution_count": 76,
   "id": "a97666cb-e839-47bd-be7b-96ca10cc78b1",
   "metadata": {},
   "outputs": [],
   "source": [
    "# do train test split on the data\n",
    "# Train the model\n",
    "# Run tests"
   ]
  },
  {
   "cell_type": "code",
   "execution_count": 151,
   "id": "afe97a9a-e28b-40d3-8561-40436af8f896",
   "metadata": {},
   "outputs": [
    {
     "name": "stdout",
     "output_type": "stream",
     "text": [
      "<class 'pandas.core.frame.DataFrame'>\n",
      "RangeIndex: 80120 entries, 0 to 80119\n",
      "Data columns (total 8 columns):\n",
      " #   Column               Non-Null Count  Dtype  \n",
      "---  ------               --------------  -----  \n",
      " 0   timestamp            80120 non-null  int64  \n",
      " 1   source_address       80120 non-null  object \n",
      " 2   destination_address  80120 non-null  object \n",
      " 3   satoshi              80120 non-null  float64\n",
      " 4   year                 80120 non-null  int64  \n",
      " 5   month                80120 non-null  int64  \n",
      " 6   day                  80120 non-null  int64  \n",
      " 7   is_possible_fraud    80120 non-null  int32  \n",
      "dtypes: float64(1), int32(1), int64(4), object(2)\n",
      "memory usage: 4.6+ MB\n"
     ]
    }
   ],
   "source": [
    "df.info()"
   ]
  },
  {
   "cell_type": "markdown",
   "id": "5da393e9-4c04-4354-b17c-607095e41671",
   "metadata": {},
   "source": [
    "#### Train Test Split\n",
    "The addresses will have to be encoded in order to run through model more accurately. It converts the btc addresses to integer values. Then the data is scaled using the standard scaler. "
   ]
  },
  {
   "cell_type": "code",
   "execution_count": 163,
   "id": "dfc7f5a2-0963-4625-8088-31bf8405a497",
   "metadata": {},
   "outputs": [
    {
     "data": {
      "text/html": [
       "<style>#sk-container-id-1 {\n",
       "  /* Definition of color scheme common for light and dark mode */\n",
       "  --sklearn-color-text: black;\n",
       "  --sklearn-color-line: gray;\n",
       "  /* Definition of color scheme for unfitted estimators */\n",
       "  --sklearn-color-unfitted-level-0: #fff5e6;\n",
       "  --sklearn-color-unfitted-level-1: #f6e4d2;\n",
       "  --sklearn-color-unfitted-level-2: #ffe0b3;\n",
       "  --sklearn-color-unfitted-level-3: chocolate;\n",
       "  /* Definition of color scheme for fitted estimators */\n",
       "  --sklearn-color-fitted-level-0: #f0f8ff;\n",
       "  --sklearn-color-fitted-level-1: #d4ebff;\n",
       "  --sklearn-color-fitted-level-2: #b3dbfd;\n",
       "  --sklearn-color-fitted-level-3: cornflowerblue;\n",
       "\n",
       "  /* Specific color for light theme */\n",
       "  --sklearn-color-text-on-default-background: var(--sg-text-color, var(--theme-code-foreground, var(--jp-content-font-color1, black)));\n",
       "  --sklearn-color-background: var(--sg-background-color, var(--theme-background, var(--jp-layout-color0, white)));\n",
       "  --sklearn-color-border-box: var(--sg-text-color, var(--theme-code-foreground, var(--jp-content-font-color1, black)));\n",
       "  --sklearn-color-icon: #696969;\n",
       "\n",
       "  @media (prefers-color-scheme: dark) {\n",
       "    /* Redefinition of color scheme for dark theme */\n",
       "    --sklearn-color-text-on-default-background: var(--sg-text-color, var(--theme-code-foreground, var(--jp-content-font-color1, white)));\n",
       "    --sklearn-color-background: var(--sg-background-color, var(--theme-background, var(--jp-layout-color0, #111)));\n",
       "    --sklearn-color-border-box: var(--sg-text-color, var(--theme-code-foreground, var(--jp-content-font-color1, white)));\n",
       "    --sklearn-color-icon: #878787;\n",
       "  }\n",
       "}\n",
       "\n",
       "#sk-container-id-1 {\n",
       "  color: var(--sklearn-color-text);\n",
       "}\n",
       "\n",
       "#sk-container-id-1 pre {\n",
       "  padding: 0;\n",
       "}\n",
       "\n",
       "#sk-container-id-1 input.sk-hidden--visually {\n",
       "  border: 0;\n",
       "  clip: rect(1px 1px 1px 1px);\n",
       "  clip: rect(1px, 1px, 1px, 1px);\n",
       "  height: 1px;\n",
       "  margin: -1px;\n",
       "  overflow: hidden;\n",
       "  padding: 0;\n",
       "  position: absolute;\n",
       "  width: 1px;\n",
       "}\n",
       "\n",
       "#sk-container-id-1 div.sk-dashed-wrapped {\n",
       "  border: 1px dashed var(--sklearn-color-line);\n",
       "  margin: 0 0.4em 0.5em 0.4em;\n",
       "  box-sizing: border-box;\n",
       "  padding-bottom: 0.4em;\n",
       "  background-color: var(--sklearn-color-background);\n",
       "}\n",
       "\n",
       "#sk-container-id-1 div.sk-container {\n",
       "  /* jupyter's `normalize.less` sets `[hidden] { display: none; }`\n",
       "     but bootstrap.min.css set `[hidden] { display: none !important; }`\n",
       "     so we also need the `!important` here to be able to override the\n",
       "     default hidden behavior on the sphinx rendered scikit-learn.org.\n",
       "     See: https://github.com/scikit-learn/scikit-learn/issues/21755 */\n",
       "  display: inline-block !important;\n",
       "  position: relative;\n",
       "}\n",
       "\n",
       "#sk-container-id-1 div.sk-text-repr-fallback {\n",
       "  display: none;\n",
       "}\n",
       "\n",
       "div.sk-parallel-item,\n",
       "div.sk-serial,\n",
       "div.sk-item {\n",
       "  /* draw centered vertical line to link estimators */\n",
       "  background-image: linear-gradient(var(--sklearn-color-text-on-default-background), var(--sklearn-color-text-on-default-background));\n",
       "  background-size: 2px 100%;\n",
       "  background-repeat: no-repeat;\n",
       "  background-position: center center;\n",
       "}\n",
       "\n",
       "/* Parallel-specific style estimator block */\n",
       "\n",
       "#sk-container-id-1 div.sk-parallel-item::after {\n",
       "  content: \"\";\n",
       "  width: 100%;\n",
       "  border-bottom: 2px solid var(--sklearn-color-text-on-default-background);\n",
       "  flex-grow: 1;\n",
       "}\n",
       "\n",
       "#sk-container-id-1 div.sk-parallel {\n",
       "  display: flex;\n",
       "  align-items: stretch;\n",
       "  justify-content: center;\n",
       "  background-color: var(--sklearn-color-background);\n",
       "  position: relative;\n",
       "}\n",
       "\n",
       "#sk-container-id-1 div.sk-parallel-item {\n",
       "  display: flex;\n",
       "  flex-direction: column;\n",
       "}\n",
       "\n",
       "#sk-container-id-1 div.sk-parallel-item:first-child::after {\n",
       "  align-self: flex-end;\n",
       "  width: 50%;\n",
       "}\n",
       "\n",
       "#sk-container-id-1 div.sk-parallel-item:last-child::after {\n",
       "  align-self: flex-start;\n",
       "  width: 50%;\n",
       "}\n",
       "\n",
       "#sk-container-id-1 div.sk-parallel-item:only-child::after {\n",
       "  width: 0;\n",
       "}\n",
       "\n",
       "/* Serial-specific style estimator block */\n",
       "\n",
       "#sk-container-id-1 div.sk-serial {\n",
       "  display: flex;\n",
       "  flex-direction: column;\n",
       "  align-items: center;\n",
       "  background-color: var(--sklearn-color-background);\n",
       "  padding-right: 1em;\n",
       "  padding-left: 1em;\n",
       "}\n",
       "\n",
       "\n",
       "/* Toggleable style: style used for estimator/Pipeline/ColumnTransformer box that is\n",
       "clickable and can be expanded/collapsed.\n",
       "- Pipeline and ColumnTransformer use this feature and define the default style\n",
       "- Estimators will overwrite some part of the style using the `sk-estimator` class\n",
       "*/\n",
       "\n",
       "/* Pipeline and ColumnTransformer style (default) */\n",
       "\n",
       "#sk-container-id-1 div.sk-toggleable {\n",
       "  /* Default theme specific background. It is overwritten whether we have a\n",
       "  specific estimator or a Pipeline/ColumnTransformer */\n",
       "  background-color: var(--sklearn-color-background);\n",
       "}\n",
       "\n",
       "/* Toggleable label */\n",
       "#sk-container-id-1 label.sk-toggleable__label {\n",
       "  cursor: pointer;\n",
       "  display: block;\n",
       "  width: 100%;\n",
       "  margin-bottom: 0;\n",
       "  padding: 0.5em;\n",
       "  box-sizing: border-box;\n",
       "  text-align: center;\n",
       "}\n",
       "\n",
       "#sk-container-id-1 label.sk-toggleable__label-arrow:before {\n",
       "  /* Arrow on the left of the label */\n",
       "  content: \"▸\";\n",
       "  float: left;\n",
       "  margin-right: 0.25em;\n",
       "  color: var(--sklearn-color-icon);\n",
       "}\n",
       "\n",
       "#sk-container-id-1 label.sk-toggleable__label-arrow:hover:before {\n",
       "  color: var(--sklearn-color-text);\n",
       "}\n",
       "\n",
       "/* Toggleable content - dropdown */\n",
       "\n",
       "#sk-container-id-1 div.sk-toggleable__content {\n",
       "  max-height: 0;\n",
       "  max-width: 0;\n",
       "  overflow: hidden;\n",
       "  text-align: left;\n",
       "  /* unfitted */\n",
       "  background-color: var(--sklearn-color-unfitted-level-0);\n",
       "}\n",
       "\n",
       "#sk-container-id-1 div.sk-toggleable__content.fitted {\n",
       "  /* fitted */\n",
       "  background-color: var(--sklearn-color-fitted-level-0);\n",
       "}\n",
       "\n",
       "#sk-container-id-1 div.sk-toggleable__content pre {\n",
       "  margin: 0.2em;\n",
       "  border-radius: 0.25em;\n",
       "  color: var(--sklearn-color-text);\n",
       "  /* unfitted */\n",
       "  background-color: var(--sklearn-color-unfitted-level-0);\n",
       "}\n",
       "\n",
       "#sk-container-id-1 div.sk-toggleable__content.fitted pre {\n",
       "  /* unfitted */\n",
       "  background-color: var(--sklearn-color-fitted-level-0);\n",
       "}\n",
       "\n",
       "#sk-container-id-1 input.sk-toggleable__control:checked~div.sk-toggleable__content {\n",
       "  /* Expand drop-down */\n",
       "  max-height: 200px;\n",
       "  max-width: 100%;\n",
       "  overflow: auto;\n",
       "}\n",
       "\n",
       "#sk-container-id-1 input.sk-toggleable__control:checked~label.sk-toggleable__label-arrow:before {\n",
       "  content: \"▾\";\n",
       "}\n",
       "\n",
       "/* Pipeline/ColumnTransformer-specific style */\n",
       "\n",
       "#sk-container-id-1 div.sk-label input.sk-toggleable__control:checked~label.sk-toggleable__label {\n",
       "  color: var(--sklearn-color-text);\n",
       "  background-color: var(--sklearn-color-unfitted-level-2);\n",
       "}\n",
       "\n",
       "#sk-container-id-1 div.sk-label.fitted input.sk-toggleable__control:checked~label.sk-toggleable__label {\n",
       "  background-color: var(--sklearn-color-fitted-level-2);\n",
       "}\n",
       "\n",
       "/* Estimator-specific style */\n",
       "\n",
       "/* Colorize estimator box */\n",
       "#sk-container-id-1 div.sk-estimator input.sk-toggleable__control:checked~label.sk-toggleable__label {\n",
       "  /* unfitted */\n",
       "  background-color: var(--sklearn-color-unfitted-level-2);\n",
       "}\n",
       "\n",
       "#sk-container-id-1 div.sk-estimator.fitted input.sk-toggleable__control:checked~label.sk-toggleable__label {\n",
       "  /* fitted */\n",
       "  background-color: var(--sklearn-color-fitted-level-2);\n",
       "}\n",
       "\n",
       "#sk-container-id-1 div.sk-label label.sk-toggleable__label,\n",
       "#sk-container-id-1 div.sk-label label {\n",
       "  /* The background is the default theme color */\n",
       "  color: var(--sklearn-color-text-on-default-background);\n",
       "}\n",
       "\n",
       "/* On hover, darken the color of the background */\n",
       "#sk-container-id-1 div.sk-label:hover label.sk-toggleable__label {\n",
       "  color: var(--sklearn-color-text);\n",
       "  background-color: var(--sklearn-color-unfitted-level-2);\n",
       "}\n",
       "\n",
       "/* Label box, darken color on hover, fitted */\n",
       "#sk-container-id-1 div.sk-label.fitted:hover label.sk-toggleable__label.fitted {\n",
       "  color: var(--sklearn-color-text);\n",
       "  background-color: var(--sklearn-color-fitted-level-2);\n",
       "}\n",
       "\n",
       "/* Estimator label */\n",
       "\n",
       "#sk-container-id-1 div.sk-label label {\n",
       "  font-family: monospace;\n",
       "  font-weight: bold;\n",
       "  display: inline-block;\n",
       "  line-height: 1.2em;\n",
       "}\n",
       "\n",
       "#sk-container-id-1 div.sk-label-container {\n",
       "  text-align: center;\n",
       "}\n",
       "\n",
       "/* Estimator-specific */\n",
       "#sk-container-id-1 div.sk-estimator {\n",
       "  font-family: monospace;\n",
       "  border: 1px dotted var(--sklearn-color-border-box);\n",
       "  border-radius: 0.25em;\n",
       "  box-sizing: border-box;\n",
       "  margin-bottom: 0.5em;\n",
       "  /* unfitted */\n",
       "  background-color: var(--sklearn-color-unfitted-level-0);\n",
       "}\n",
       "\n",
       "#sk-container-id-1 div.sk-estimator.fitted {\n",
       "  /* fitted */\n",
       "  background-color: var(--sklearn-color-fitted-level-0);\n",
       "}\n",
       "\n",
       "/* on hover */\n",
       "#sk-container-id-1 div.sk-estimator:hover {\n",
       "  /* unfitted */\n",
       "  background-color: var(--sklearn-color-unfitted-level-2);\n",
       "}\n",
       "\n",
       "#sk-container-id-1 div.sk-estimator.fitted:hover {\n",
       "  /* fitted */\n",
       "  background-color: var(--sklearn-color-fitted-level-2);\n",
       "}\n",
       "\n",
       "/* Specification for estimator info (e.g. \"i\" and \"?\") */\n",
       "\n",
       "/* Common style for \"i\" and \"?\" */\n",
       "\n",
       ".sk-estimator-doc-link,\n",
       "a:link.sk-estimator-doc-link,\n",
       "a:visited.sk-estimator-doc-link {\n",
       "  float: right;\n",
       "  font-size: smaller;\n",
       "  line-height: 1em;\n",
       "  font-family: monospace;\n",
       "  background-color: var(--sklearn-color-background);\n",
       "  border-radius: 1em;\n",
       "  height: 1em;\n",
       "  width: 1em;\n",
       "  text-decoration: none !important;\n",
       "  margin-left: 1ex;\n",
       "  /* unfitted */\n",
       "  border: var(--sklearn-color-unfitted-level-1) 1pt solid;\n",
       "  color: var(--sklearn-color-unfitted-level-1);\n",
       "}\n",
       "\n",
       ".sk-estimator-doc-link.fitted,\n",
       "a:link.sk-estimator-doc-link.fitted,\n",
       "a:visited.sk-estimator-doc-link.fitted {\n",
       "  /* fitted */\n",
       "  border: var(--sklearn-color-fitted-level-1) 1pt solid;\n",
       "  color: var(--sklearn-color-fitted-level-1);\n",
       "}\n",
       "\n",
       "/* On hover */\n",
       "div.sk-estimator:hover .sk-estimator-doc-link:hover,\n",
       ".sk-estimator-doc-link:hover,\n",
       "div.sk-label-container:hover .sk-estimator-doc-link:hover,\n",
       ".sk-estimator-doc-link:hover {\n",
       "  /* unfitted */\n",
       "  background-color: var(--sklearn-color-unfitted-level-3);\n",
       "  color: var(--sklearn-color-background);\n",
       "  text-decoration: none;\n",
       "}\n",
       "\n",
       "div.sk-estimator.fitted:hover .sk-estimator-doc-link.fitted:hover,\n",
       ".sk-estimator-doc-link.fitted:hover,\n",
       "div.sk-label-container:hover .sk-estimator-doc-link.fitted:hover,\n",
       ".sk-estimator-doc-link.fitted:hover {\n",
       "  /* fitted */\n",
       "  background-color: var(--sklearn-color-fitted-level-3);\n",
       "  color: var(--sklearn-color-background);\n",
       "  text-decoration: none;\n",
       "}\n",
       "\n",
       "/* Span, style for the box shown on hovering the info icon */\n",
       ".sk-estimator-doc-link span {\n",
       "  display: none;\n",
       "  z-index: 9999;\n",
       "  position: relative;\n",
       "  font-weight: normal;\n",
       "  right: .2ex;\n",
       "  padding: .5ex;\n",
       "  margin: .5ex;\n",
       "  width: min-content;\n",
       "  min-width: 20ex;\n",
       "  max-width: 50ex;\n",
       "  color: var(--sklearn-color-text);\n",
       "  box-shadow: 2pt 2pt 4pt #999;\n",
       "  /* unfitted */\n",
       "  background: var(--sklearn-color-unfitted-level-0);\n",
       "  border: .5pt solid var(--sklearn-color-unfitted-level-3);\n",
       "}\n",
       "\n",
       ".sk-estimator-doc-link.fitted span {\n",
       "  /* fitted */\n",
       "  background: var(--sklearn-color-fitted-level-0);\n",
       "  border: var(--sklearn-color-fitted-level-3);\n",
       "}\n",
       "\n",
       ".sk-estimator-doc-link:hover span {\n",
       "  display: block;\n",
       "}\n",
       "\n",
       "/* \"?\"-specific style due to the `<a>` HTML tag */\n",
       "\n",
       "#sk-container-id-1 a.estimator_doc_link {\n",
       "  float: right;\n",
       "  font-size: 1rem;\n",
       "  line-height: 1em;\n",
       "  font-family: monospace;\n",
       "  background-color: var(--sklearn-color-background);\n",
       "  border-radius: 1rem;\n",
       "  height: 1rem;\n",
       "  width: 1rem;\n",
       "  text-decoration: none;\n",
       "  /* unfitted */\n",
       "  color: var(--sklearn-color-unfitted-level-1);\n",
       "  border: var(--sklearn-color-unfitted-level-1) 1pt solid;\n",
       "}\n",
       "\n",
       "#sk-container-id-1 a.estimator_doc_link.fitted {\n",
       "  /* fitted */\n",
       "  border: var(--sklearn-color-fitted-level-1) 1pt solid;\n",
       "  color: var(--sklearn-color-fitted-level-1);\n",
       "}\n",
       "\n",
       "/* On hover */\n",
       "#sk-container-id-1 a.estimator_doc_link:hover {\n",
       "  /* unfitted */\n",
       "  background-color: var(--sklearn-color-unfitted-level-3);\n",
       "  color: var(--sklearn-color-background);\n",
       "  text-decoration: none;\n",
       "}\n",
       "\n",
       "#sk-container-id-1 a.estimator_doc_link.fitted:hover {\n",
       "  /* fitted */\n",
       "  background-color: var(--sklearn-color-fitted-level-3);\n",
       "}\n",
       "</style><div id=\"sk-container-id-1\" class=\"sk-top-container\"><div class=\"sk-text-repr-fallback\"><pre>LogisticRegression()</pre><b>In a Jupyter environment, please rerun this cell to show the HTML representation or trust the notebook. <br />On GitHub, the HTML representation is unable to render, please try loading this page with nbviewer.org.</b></div><div class=\"sk-container\" hidden><div class=\"sk-item\"><div class=\"sk-estimator fitted sk-toggleable\"><input class=\"sk-toggleable__control sk-hidden--visually\" id=\"sk-estimator-id-1\" type=\"checkbox\" checked><label for=\"sk-estimator-id-1\" class=\"sk-toggleable__label fitted sk-toggleable__label-arrow fitted\">&nbsp;&nbsp;LogisticRegression<a class=\"sk-estimator-doc-link fitted\" rel=\"noreferrer\" target=\"_blank\" href=\"https://scikit-learn.org/1.4/modules/generated/sklearn.linear_model.LogisticRegression.html\">?<span>Documentation for LogisticRegression</span></a><span class=\"sk-estimator-doc-link fitted\">i<span>Fitted</span></span></label><div class=\"sk-toggleable__content fitted\"><pre>LogisticRegression()</pre></div> </div></div></div></div>"
      ],
      "text/plain": [
       "LogisticRegression()"
      ]
     },
     "execution_count": 163,
     "metadata": {},
     "output_type": "execute_result"
    }
   ],
   "source": [
    "# Train Test Split (ttS)\n",
    "# Extract target variable\n",
    "X = df[['source_address', 'destination_address', 'satoshi', 'timestamp', 'year', 'month', 'day']]\n",
    "y = df['is_possible_fraud']\n",
    "\n",
    "# Encode categorical data (convert addresses to single digits)\n",
    "enc = LabelEncoder()\n",
    "X['source_address'] = enc.fit_transform(X['source_address'])\n",
    "X['destination_address'] = enc.fit_transform(X['destination_address'])\n",
    "\n",
    "# Scale numerical features\n",
    "scaler = StandardScaler()\n",
    "X[['satoshi', 'timestamp', 'year', 'month', 'day']] = scaler.fit_transform(X[['satoshi', 'timestamp', 'year', 'month', 'day']])\n",
    "\n",
    "# tts\n",
    "X_train, X_test, y_train, y_test = train_test_split(X, y, test_size=0.33, random_state=42)\n",
    "\n",
    "# Train model\n",
    "lr = LogisticRegression()\n",
    "lr.fit(X_train, y_train)"
   ]
  },
  {
   "cell_type": "code",
   "execution_count": 168,
   "id": "7953e379-e556-4cc0-9a66-cbf8a9f070c0",
   "metadata": {},
   "outputs": [
    {
     "data": {
      "text/html": [
       "<div>\n",
       "<style scoped>\n",
       "    .dataframe tbody tr th:only-of-type {\n",
       "        vertical-align: middle;\n",
       "    }\n",
       "\n",
       "    .dataframe tbody tr th {\n",
       "        vertical-align: top;\n",
       "    }\n",
       "\n",
       "    .dataframe thead th {\n",
       "        text-align: right;\n",
       "    }\n",
       "</style>\n",
       "<table border=\"1\" class=\"dataframe\">\n",
       "  <thead>\n",
       "    <tr style=\"text-align: right;\">\n",
       "      <th></th>\n",
       "      <th>source_address</th>\n",
       "      <th>destination_address</th>\n",
       "      <th>satoshi</th>\n",
       "      <th>timestamp</th>\n",
       "      <th>year</th>\n",
       "      <th>month</th>\n",
       "      <th>day</th>\n",
       "    </tr>\n",
       "  </thead>\n",
       "  <tbody>\n",
       "    <tr>\n",
       "      <th>75288</th>\n",
       "      <td>11812</td>\n",
       "      <td>17757</td>\n",
       "      <td>-0.184233</td>\n",
       "      <td>-0.134205</td>\n",
       "      <td>0.0</td>\n",
       "      <td>0.0</td>\n",
       "      <td>-0.145564</td>\n",
       "    </tr>\n",
       "    <tr>\n",
       "      <th>44607</th>\n",
       "      <td>12788</td>\n",
       "      <td>9371</td>\n",
       "      <td>-0.207944</td>\n",
       "      <td>-0.154380</td>\n",
       "      <td>0.0</td>\n",
       "      <td>0.0</td>\n",
       "      <td>-0.145564</td>\n",
       "    </tr>\n",
       "    <tr>\n",
       "      <th>50936</th>\n",
       "      <td>11865</td>\n",
       "      <td>11924</td>\n",
       "      <td>-0.207940</td>\n",
       "      <td>-0.154380</td>\n",
       "      <td>0.0</td>\n",
       "      <td>0.0</td>\n",
       "      <td>-0.145564</td>\n",
       "    </tr>\n",
       "    <tr>\n",
       "      <th>22869</th>\n",
       "      <td>20701</td>\n",
       "      <td>27159</td>\n",
       "      <td>-0.192616</td>\n",
       "      <td>-0.156511</td>\n",
       "      <td>0.0</td>\n",
       "      <td>0.0</td>\n",
       "      <td>-0.145564</td>\n",
       "    </tr>\n",
       "    <tr>\n",
       "      <th>39205</th>\n",
       "      <td>9783</td>\n",
       "      <td>6776</td>\n",
       "      <td>-0.207913</td>\n",
       "      <td>-0.154380</td>\n",
       "      <td>0.0</td>\n",
       "      <td>0.0</td>\n",
       "      <td>-0.145564</td>\n",
       "    </tr>\n",
       "  </tbody>\n",
       "</table>\n",
       "</div>"
      ],
      "text/plain": [
       "       source_address  destination_address   satoshi  timestamp  year  month  \\\n",
       "75288           11812                17757 -0.184233  -0.134205   0.0    0.0   \n",
       "44607           12788                 9371 -0.207944  -0.154380   0.0    0.0   \n",
       "50936           11865                11924 -0.207940  -0.154380   0.0    0.0   \n",
       "22869           20701                27159 -0.192616  -0.156511   0.0    0.0   \n",
       "39205            9783                 6776 -0.207913  -0.154380   0.0    0.0   \n",
       "\n",
       "            day  \n",
       "75288 -0.145564  \n",
       "44607 -0.145564  \n",
       "50936 -0.145564  \n",
       "22869 -0.145564  \n",
       "39205 -0.145564  "
      ]
     },
     "execution_count": 168,
     "metadata": {},
     "output_type": "execute_result"
    }
   ],
   "source": [
    "X_train.head()"
   ]
  },
  {
   "cell_type": "markdown",
   "id": "0b4e1cb0-52ae-4742-b79d-e4ff57c07d38",
   "metadata": {},
   "source": [
    "#### Evaluate Model\n",
    "The accuracy is calculated from the initial model. Then a confusion matrix is used to give a breakdown of the model predictions. "
   ]
  },
  {
   "cell_type": "code",
   "execution_count": 262,
   "id": "46248f9a-bef8-49a8-871d-89e9592baf6f",
   "metadata": {},
   "outputs": [
    {
     "name": "stdout",
     "output_type": "stream",
     "text": [
      "Accuracy:  0.9996217851739788\n"
     ]
    },
    {
     "data": {
      "text/plain": [
       "<sklearn.metrics._plot.confusion_matrix.ConfusionMatrixDisplay at 0x2e25eedbc20>"
      ]
     },
     "execution_count": 262,
     "metadata": {},
     "output_type": "execute_result"
    },
    {
     "data": {
      "image/png": "[encoded data removed]",
      "text/plain": [
       "<Figure size 640x480 with 2 Axes>"
      ]
     },
     "metadata": {},
     "output_type": "display_data"
    }
   ],
   "source": [
    "# Eval model\n",
    "accuracy = lr.score(X_test, y_test)\n",
    "\n",
    "print(\"Accuracy: \", accuracy)\n",
    "\n",
    "y_pred = lr.predict(X_test)\n",
    "\n",
    "# Confusion Matrix\n",
    "cm = confusion_matrix(y_test, y_pred)\n",
    "cmd = ConfusionMatrixDisplay(confusion_matrix=cm, display_labels=[\"False\", \"True\"])\n",
    "\n",
    "cmd.plot(cmap='Blues')"
   ]
  },
  {
   "cell_type": "markdown",
   "id": "e5321318-cf8d-41b8-b7c0-c77b329a8b57",
   "metadata": {},
   "source": [
    "It appears the model has 99% accuracy in predicting fraudulent transactions with the test set. This would need to be further evaluated to see if its accurate. There is a 0 indicating in the (0,1) position that out of all the Trufy predictions there was not one that was really a false flag. Further investigation would need to go into the model and the dataset. "
   ]
  }
 ],
 "metadata": {
  "kernelspec": {
   "display_name": "Python 3 (ipykernel)",
   "language": "python",
   "name": "python3"
  },
  "language_info": {
   "codemirror_mode": {
    "name": "ipython",
    "version": 3
   },
   "file_extension": ".py",
   "mimetype": "text/x-python",
   "name": "python",
   "nbconvert_exporter": "python",
   "pygments_lexer": "ipython3",
   "version": "3.12.4"
  }
 },
 "nbformat": 4,
 "nbformat_minor": 5
}
